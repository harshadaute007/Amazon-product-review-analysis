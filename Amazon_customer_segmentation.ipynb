{
  "nbformat": 4,
  "nbformat_minor": 0,
  "metadata": {
    "colab": {
      "provenance": []
    },
    "kernelspec": {
      "name": "python3",
      "display_name": "Python 3"
    },
    "language_info": {
      "name": "python"
    }
  },
  "cells": [
    {
      "cell_type": "code",
      "source": [
        "from google.colab import drive\n",
        "drive.mount('/content/drive')"
      ],
      "metadata": {
        "colab": {
          "base_uri": "https://localhost:8080/"
        },
        "id": "Nlk0Wqf-hZzk",
        "outputId": "e28eaee1-1108-446f-ae8b-96127450c119"
      },
      "execution_count": null,
      "outputs": [
        {
          "output_type": "stream",
          "name": "stdout",
          "text": [
            "Drive already mounted at /content/drive; to attempt to forcibly remount, call drive.mount(\"/content/drive\", force_remount=True).\n"
          ]
        }
      ]
    },
    {
      "cell_type": "code",
      "source": [
        "import pandas as pd\n",
        "import numpy as np\n",
        "import matplotlib.pyplot as plt\n",
        "import seaborn as sb"
      ],
      "metadata": {
        "id": "bxcAvUgwie1z"
      },
      "execution_count": null,
      "outputs": []
    },
    {
      "cell_type": "code",
      "source": [
        "import gzip\n",
        "\n",
        "def parse(path):\n",
        "  g = gzip.open(path, 'rb')\n",
        "  for l in g:\n",
        "    yield eval(l)\n",
        "\n",
        "def getDF(path):\n",
        "  i = 0\n",
        "  df = {}\n",
        "  for d in parse(path):\n",
        "    df[i] = d\n",
        "    i += 1\n",
        "  return pd.DataFrame.from_dict(df, orient='index')"
      ],
      "metadata": {
        "id": "F1RyquqXhbXF"
      },
      "execution_count": null,
      "outputs": []
    },
    {
      "cell_type": "code",
      "source": [
        "df=getDF(\"/content/drive/MyDrive/capstone_data/meta_Digital_Music.json.gz\")\n",
        "df.head()"
      ],
      "metadata": {
        "colab": {
          "base_uri": "https://localhost:8080/",
          "height": 406
        },
        "id": "11znruKHhbbD",
        "outputId": "e822604b-5127-4e7e-f80b-64d9b99fea1e"
      },
      "execution_count": null,
      "outputs": [
        {
          "output_type": "execute_result",
          "data": {
            "text/plain": [
              "         asin                  title  price  \\\n",
              "0  5555991584        Memory of Trees   9.49   \n",
              "1  6308051551  Don't Drink His Blood   8.91   \n",
              "2  7901622466                On Fire  11.33   \n",
              "3  B0000000ZW         Changing Faces  23.64   \n",
              "4  B00000016W             Pet Sounds   9.49   \n",
              "\n",
              "                                               imUrl  \\\n",
              "0  http://ecx.images-amazon.com/images/I/51b5WDjd...   \n",
              "1  http://ecx.images-amazon.com/images/I/31LT2n7Q...   \n",
              "2  http://ecx.images-amazon.com/images/I/21W29WZw...   \n",
              "3  http://ecx.images-amazon.com/images/I/51H3Bp-3...   \n",
              "4  http://ecx.images-amazon.com/images/I/51pDGkXj...   \n",
              "\n",
              "                                             related          salesRank  \\\n",
              "0  {'also_bought': ['B000002LRT', 'B000002LRR', '...  {'Music': 939190}   \n",
              "1                                                NaN                NaN   \n",
              "2  {'also_bought': ['B00000282A', 'B0084O8O9S', '...   {'Music': 58799}   \n",
              "3  {'also_bought': ['B00000010Z', 'B0000039Q5', '...   {'Music': 68784}   \n",
              "4  {'also_bought': ['B0025KVLTM', 'B00007FOMP', '...   {'Music': 77205}   \n",
              "\n",
              "                                          categories  \\\n",
              "0  [[CDs & Vinyl, New Age, Celtic New Age], [CDs ...   \n",
              "1  [[Digital Music, Alternative Rock, Indie & Lo-...   \n",
              "2  [[CDs & Vinyl, Christian, Rock & Alternative],...   \n",
              "3  [[CDs & Vinyl, Dance & Electronic], [CDs & Vin...   \n",
              "4  [[CDs & Vinyl, Classic Rock], [CDs & Vinyl, Po...   \n",
              "\n",
              "                          description brand  \n",
              "0                                 NaN   NaN  \n",
              "1  NEW Combo BLUWAVS CD and FLAC FILE   NaN  \n",
              "2                                 NaN   NaN  \n",
              "3                                            \n",
              "4                                 NaN   NaN  "
            ],
            "text/html": [
              "\n",
              "  <div id=\"df-ab77c223-08b6-42fe-8d8a-c751e880c2b8\">\n",
              "    <div class=\"colab-df-container\">\n",
              "      <div>\n",
              "<style scoped>\n",
              "    .dataframe tbody tr th:only-of-type {\n",
              "        vertical-align: middle;\n",
              "    }\n",
              "\n",
              "    .dataframe tbody tr th {\n",
              "        vertical-align: top;\n",
              "    }\n",
              "\n",
              "    .dataframe thead th {\n",
              "        text-align: right;\n",
              "    }\n",
              "</style>\n",
              "<table border=\"1\" class=\"dataframe\">\n",
              "  <thead>\n",
              "    <tr style=\"text-align: right;\">\n",
              "      <th></th>\n",
              "      <th>asin</th>\n",
              "      <th>title</th>\n",
              "      <th>price</th>\n",
              "      <th>imUrl</th>\n",
              "      <th>related</th>\n",
              "      <th>salesRank</th>\n",
              "      <th>categories</th>\n",
              "      <th>description</th>\n",
              "      <th>brand</th>\n",
              "    </tr>\n",
              "  </thead>\n",
              "  <tbody>\n",
              "    <tr>\n",
              "      <th>0</th>\n",
              "      <td>5555991584</td>\n",
              "      <td>Memory of Trees</td>\n",
              "      <td>9.49</td>\n",
              "      <td>http://ecx.images-amazon.com/images/I/51b5WDjd...</td>\n",
              "      <td>{'also_bought': ['B000002LRT', 'B000002LRR', '...</td>\n",
              "      <td>{'Music': 939190}</td>\n",
              "      <td>[[CDs &amp; Vinyl, New Age, Celtic New Age], [CDs ...</td>\n",
              "      <td>NaN</td>\n",
              "      <td>NaN</td>\n",
              "    </tr>\n",
              "    <tr>\n",
              "      <th>1</th>\n",
              "      <td>6308051551</td>\n",
              "      <td>Don't Drink His Blood</td>\n",
              "      <td>8.91</td>\n",
              "      <td>http://ecx.images-amazon.com/images/I/31LT2n7Q...</td>\n",
              "      <td>NaN</td>\n",
              "      <td>NaN</td>\n",
              "      <td>[[Digital Music, Alternative Rock, Indie &amp; Lo-...</td>\n",
              "      <td>NEW Combo BLUWAVS CD and FLAC FILE</td>\n",
              "      <td>NaN</td>\n",
              "    </tr>\n",
              "    <tr>\n",
              "      <th>2</th>\n",
              "      <td>7901622466</td>\n",
              "      <td>On Fire</td>\n",
              "      <td>11.33</td>\n",
              "      <td>http://ecx.images-amazon.com/images/I/21W29WZw...</td>\n",
              "      <td>{'also_bought': ['B00000282A', 'B0084O8O9S', '...</td>\n",
              "      <td>{'Music': 58799}</td>\n",
              "      <td>[[CDs &amp; Vinyl, Christian, Rock &amp; Alternative],...</td>\n",
              "      <td>NaN</td>\n",
              "      <td>NaN</td>\n",
              "    </tr>\n",
              "    <tr>\n",
              "      <th>3</th>\n",
              "      <td>B0000000ZW</td>\n",
              "      <td>Changing Faces</td>\n",
              "      <td>23.64</td>\n",
              "      <td>http://ecx.images-amazon.com/images/I/51H3Bp-3...</td>\n",
              "      <td>{'also_bought': ['B00000010Z', 'B0000039Q5', '...</td>\n",
              "      <td>{'Music': 68784}</td>\n",
              "      <td>[[CDs &amp; Vinyl, Dance &amp; Electronic], [CDs &amp; Vin...</td>\n",
              "      <td></td>\n",
              "      <td></td>\n",
              "    </tr>\n",
              "    <tr>\n",
              "      <th>4</th>\n",
              "      <td>B00000016W</td>\n",
              "      <td>Pet Sounds</td>\n",
              "      <td>9.49</td>\n",
              "      <td>http://ecx.images-amazon.com/images/I/51pDGkXj...</td>\n",
              "      <td>{'also_bought': ['B0025KVLTM', 'B00007FOMP', '...</td>\n",
              "      <td>{'Music': 77205}</td>\n",
              "      <td>[[CDs &amp; Vinyl, Classic Rock], [CDs &amp; Vinyl, Po...</td>\n",
              "      <td>NaN</td>\n",
              "      <td>NaN</td>\n",
              "    </tr>\n",
              "  </tbody>\n",
              "</table>\n",
              "</div>\n",
              "      <button class=\"colab-df-convert\" onclick=\"convertToInteractive('df-ab77c223-08b6-42fe-8d8a-c751e880c2b8')\"\n",
              "              title=\"Convert this dataframe to an interactive table.\"\n",
              "              style=\"display:none;\">\n",
              "        \n",
              "  <svg xmlns=\"http://www.w3.org/2000/svg\" height=\"24px\"viewBox=\"0 0 24 24\"\n",
              "       width=\"24px\">\n",
              "    <path d=\"M0 0h24v24H0V0z\" fill=\"none\"/>\n",
              "    <path d=\"M18.56 5.44l.94 2.06.94-2.06 2.06-.94-2.06-.94-.94-2.06-.94 2.06-2.06.94zm-11 1L8.5 8.5l.94-2.06 2.06-.94-2.06-.94L8.5 2.5l-.94 2.06-2.06.94zm10 10l.94 2.06.94-2.06 2.06-.94-2.06-.94-.94-2.06-.94 2.06-2.06.94z\"/><path d=\"M17.41 7.96l-1.37-1.37c-.4-.4-.92-.59-1.43-.59-.52 0-1.04.2-1.43.59L10.3 9.45l-7.72 7.72c-.78.78-.78 2.05 0 2.83L4 21.41c.39.39.9.59 1.41.59.51 0 1.02-.2 1.41-.59l7.78-7.78 2.81-2.81c.8-.78.8-2.07 0-2.86zM5.41 20L4 18.59l7.72-7.72 1.47 1.35L5.41 20z\"/>\n",
              "  </svg>\n",
              "      </button>\n",
              "      \n",
              "  <style>\n",
              "    .colab-df-container {\n",
              "      display:flex;\n",
              "      flex-wrap:wrap;\n",
              "      gap: 12px;\n",
              "    }\n",
              "\n",
              "    .colab-df-convert {\n",
              "      background-color: #E8F0FE;\n",
              "      border: none;\n",
              "      border-radius: 50%;\n",
              "      cursor: pointer;\n",
              "      display: none;\n",
              "      fill: #1967D2;\n",
              "      height: 32px;\n",
              "      padding: 0 0 0 0;\n",
              "      width: 32px;\n",
              "    }\n",
              "\n",
              "    .colab-df-convert:hover {\n",
              "      background-color: #E2EBFA;\n",
              "      box-shadow: 0px 1px 2px rgba(60, 64, 67, 0.3), 0px 1px 3px 1px rgba(60, 64, 67, 0.15);\n",
              "      fill: #174EA6;\n",
              "    }\n",
              "\n",
              "    [theme=dark] .colab-df-convert {\n",
              "      background-color: #3B4455;\n",
              "      fill: #D2E3FC;\n",
              "    }\n",
              "\n",
              "    [theme=dark] .colab-df-convert:hover {\n",
              "      background-color: #434B5C;\n",
              "      box-shadow: 0px 1px 3px 1px rgba(0, 0, 0, 0.15);\n",
              "      filter: drop-shadow(0px 1px 2px rgba(0, 0, 0, 0.3));\n",
              "      fill: #FFFFFF;\n",
              "    }\n",
              "  </style>\n",
              "\n",
              "      <script>\n",
              "        const buttonEl =\n",
              "          document.querySelector('#df-ab77c223-08b6-42fe-8d8a-c751e880c2b8 button.colab-df-convert');\n",
              "        buttonEl.style.display =\n",
              "          google.colab.kernel.accessAllowed ? 'block' : 'none';\n",
              "\n",
              "        async function convertToInteractive(key) {\n",
              "          const element = document.querySelector('#df-ab77c223-08b6-42fe-8d8a-c751e880c2b8');\n",
              "          const dataTable =\n",
              "            await google.colab.kernel.invokeFunction('convertToInteractive',\n",
              "                                                     [key], {});\n",
              "          if (!dataTable) return;\n",
              "\n",
              "          const docLinkHtml = 'Like what you see? Visit the ' +\n",
              "            '<a target=\"_blank\" href=https://colab.research.google.com/notebooks/data_table.ipynb>data table notebook</a>'\n",
              "            + ' to learn more about interactive tables.';\n",
              "          element.innerHTML = '';\n",
              "          dataTable['output_type'] = 'display_data';\n",
              "          await google.colab.output.renderOutput(dataTable, element);\n",
              "          const docLink = document.createElement('div');\n",
              "          docLink.innerHTML = docLinkHtml;\n",
              "          element.appendChild(docLink);\n",
              "        }\n",
              "      </script>\n",
              "    </div>\n",
              "  </div>\n",
              "  "
            ]
          },
          "metadata": {},
          "execution_count": 58
        }
      ]
    },
    {
      "cell_type": "code",
      "source": [
        "df2=getDF(\"/content/drive/MyDrive/capstone_data/reviews_Digital_Music.json.gz\")\n",
        "df2.head()"
      ],
      "metadata": {
        "colab": {
          "base_uri": "https://localhost:8080/",
          "height": 337
        },
        "id": "eDciSuUahbed",
        "outputId": "953a64a9-5a08-49c3-80c7-573db40b07b3"
      },
      "execution_count": null,
      "outputs": [
        {
          "output_type": "execute_result",
          "data": {
            "text/plain": [
              "       reviewerID        asin  \\\n",
              "0  A2EFCYXHNK06IS  5555991584   \n",
              "1  A1WR23ER5HMAA9  5555991584   \n",
              "2  A2IR4Q0GPAFJKW  5555991584   \n",
              "3  A2V0KUVAB9HSYO  5555991584   \n",
              "4  A1J0GL9HCA7ELW  5555991584   \n",
              "\n",
              "                                       reviewerName helpful  \\\n",
              "0  Abigail Perkins \"Abby &#34;Reads Too Much&#34...  [4, 5]   \n",
              "1                                               AKB  [1, 1]   \n",
              "2                                         Alexander  [0, 0]   \n",
              "3                                      Alison Hight  [0, 1]   \n",
              "4                           Al the Pal \"Al the Pal\"  [3, 3]   \n",
              "\n",
              "                                          reviewText  overall  \\\n",
              "0  The anthemic title track begins &quot;The Memo...      5.0   \n",
              "1  Just when I thought Enya couldn't possibly get...      5.0   \n",
              "2  Nice CD for easy listening.  My husband and I ...      4.0   \n",
              "3  I really liked this CD, especially the differe...      4.0   \n",
              "4  Enya's richly chorded style has smitten me onc...      5.0   \n",
              "\n",
              "                                            summary  unixReviewTime  \\\n",
              "0                     Enya Experiments And Succeeds       978480000   \n",
              "1                   How to improve upon perfection.       953424000   \n",
              "2                                   Good listening.      1393545600   \n",
              "3                                          Loved It       966124800   \n",
              "4  Another Hauntingly Beautiful Collection of Songs      1007683200   \n",
              "\n",
              "    reviewTime  \n",
              "0   01 3, 2001  \n",
              "1  03 19, 2000  \n",
              "2  02 28, 2014  \n",
              "3  08 13, 2000  \n",
              "4   12 7, 2001  "
            ],
            "text/html": [
              "\n",
              "  <div id=\"df-b0c7ab2d-02f7-4b95-9ce6-e8f8bc0f47f5\">\n",
              "    <div class=\"colab-df-container\">\n",
              "      <div>\n",
              "<style scoped>\n",
              "    .dataframe tbody tr th:only-of-type {\n",
              "        vertical-align: middle;\n",
              "    }\n",
              "\n",
              "    .dataframe tbody tr th {\n",
              "        vertical-align: top;\n",
              "    }\n",
              "\n",
              "    .dataframe thead th {\n",
              "        text-align: right;\n",
              "    }\n",
              "</style>\n",
              "<table border=\"1\" class=\"dataframe\">\n",
              "  <thead>\n",
              "    <tr style=\"text-align: right;\">\n",
              "      <th></th>\n",
              "      <th>reviewerID</th>\n",
              "      <th>asin</th>\n",
              "      <th>reviewerName</th>\n",
              "      <th>helpful</th>\n",
              "      <th>reviewText</th>\n",
              "      <th>overall</th>\n",
              "      <th>summary</th>\n",
              "      <th>unixReviewTime</th>\n",
              "      <th>reviewTime</th>\n",
              "    </tr>\n",
              "  </thead>\n",
              "  <tbody>\n",
              "    <tr>\n",
              "      <th>0</th>\n",
              "      <td>A2EFCYXHNK06IS</td>\n",
              "      <td>5555991584</td>\n",
              "      <td>Abigail Perkins \"Abby &amp;#34;Reads Too Much&amp;#34...</td>\n",
              "      <td>[4, 5]</td>\n",
              "      <td>The anthemic title track begins &amp;quot;The Memo...</td>\n",
              "      <td>5.0</td>\n",
              "      <td>Enya Experiments And Succeeds</td>\n",
              "      <td>978480000</td>\n",
              "      <td>01 3, 2001</td>\n",
              "    </tr>\n",
              "    <tr>\n",
              "      <th>1</th>\n",
              "      <td>A1WR23ER5HMAA9</td>\n",
              "      <td>5555991584</td>\n",
              "      <td>AKB</td>\n",
              "      <td>[1, 1]</td>\n",
              "      <td>Just when I thought Enya couldn't possibly get...</td>\n",
              "      <td>5.0</td>\n",
              "      <td>How to improve upon perfection.</td>\n",
              "      <td>953424000</td>\n",
              "      <td>03 19, 2000</td>\n",
              "    </tr>\n",
              "    <tr>\n",
              "      <th>2</th>\n",
              "      <td>A2IR4Q0GPAFJKW</td>\n",
              "      <td>5555991584</td>\n",
              "      <td>Alexander</td>\n",
              "      <td>[0, 0]</td>\n",
              "      <td>Nice CD for easy listening.  My husband and I ...</td>\n",
              "      <td>4.0</td>\n",
              "      <td>Good listening.</td>\n",
              "      <td>1393545600</td>\n",
              "      <td>02 28, 2014</td>\n",
              "    </tr>\n",
              "    <tr>\n",
              "      <th>3</th>\n",
              "      <td>A2V0KUVAB9HSYO</td>\n",
              "      <td>5555991584</td>\n",
              "      <td>Alison Hight</td>\n",
              "      <td>[0, 1]</td>\n",
              "      <td>I really liked this CD, especially the differe...</td>\n",
              "      <td>4.0</td>\n",
              "      <td>Loved It</td>\n",
              "      <td>966124800</td>\n",
              "      <td>08 13, 2000</td>\n",
              "    </tr>\n",
              "    <tr>\n",
              "      <th>4</th>\n",
              "      <td>A1J0GL9HCA7ELW</td>\n",
              "      <td>5555991584</td>\n",
              "      <td>Al the Pal \"Al the Pal\"</td>\n",
              "      <td>[3, 3]</td>\n",
              "      <td>Enya's richly chorded style has smitten me onc...</td>\n",
              "      <td>5.0</td>\n",
              "      <td>Another Hauntingly Beautiful Collection of Songs</td>\n",
              "      <td>1007683200</td>\n",
              "      <td>12 7, 2001</td>\n",
              "    </tr>\n",
              "  </tbody>\n",
              "</table>\n",
              "</div>\n",
              "      <button class=\"colab-df-convert\" onclick=\"convertToInteractive('df-b0c7ab2d-02f7-4b95-9ce6-e8f8bc0f47f5')\"\n",
              "              title=\"Convert this dataframe to an interactive table.\"\n",
              "              style=\"display:none;\">\n",
              "        \n",
              "  <svg xmlns=\"http://www.w3.org/2000/svg\" height=\"24px\"viewBox=\"0 0 24 24\"\n",
              "       width=\"24px\">\n",
              "    <path d=\"M0 0h24v24H0V0z\" fill=\"none\"/>\n",
              "    <path d=\"M18.56 5.44l.94 2.06.94-2.06 2.06-.94-2.06-.94-.94-2.06-.94 2.06-2.06.94zm-11 1L8.5 8.5l.94-2.06 2.06-.94-2.06-.94L8.5 2.5l-.94 2.06-2.06.94zm10 10l.94 2.06.94-2.06 2.06-.94-2.06-.94-.94-2.06-.94 2.06-2.06.94z\"/><path d=\"M17.41 7.96l-1.37-1.37c-.4-.4-.92-.59-1.43-.59-.52 0-1.04.2-1.43.59L10.3 9.45l-7.72 7.72c-.78.78-.78 2.05 0 2.83L4 21.41c.39.39.9.59 1.41.59.51 0 1.02-.2 1.41-.59l7.78-7.78 2.81-2.81c.8-.78.8-2.07 0-2.86zM5.41 20L4 18.59l7.72-7.72 1.47 1.35L5.41 20z\"/>\n",
              "  </svg>\n",
              "      </button>\n",
              "      \n",
              "  <style>\n",
              "    .colab-df-container {\n",
              "      display:flex;\n",
              "      flex-wrap:wrap;\n",
              "      gap: 12px;\n",
              "    }\n",
              "\n",
              "    .colab-df-convert {\n",
              "      background-color: #E8F0FE;\n",
              "      border: none;\n",
              "      border-radius: 50%;\n",
              "      cursor: pointer;\n",
              "      display: none;\n",
              "      fill: #1967D2;\n",
              "      height: 32px;\n",
              "      padding: 0 0 0 0;\n",
              "      width: 32px;\n",
              "    }\n",
              "\n",
              "    .colab-df-convert:hover {\n",
              "      background-color: #E2EBFA;\n",
              "      box-shadow: 0px 1px 2px rgba(60, 64, 67, 0.3), 0px 1px 3px 1px rgba(60, 64, 67, 0.15);\n",
              "      fill: #174EA6;\n",
              "    }\n",
              "\n",
              "    [theme=dark] .colab-df-convert {\n",
              "      background-color: #3B4455;\n",
              "      fill: #D2E3FC;\n",
              "    }\n",
              "\n",
              "    [theme=dark] .colab-df-convert:hover {\n",
              "      background-color: #434B5C;\n",
              "      box-shadow: 0px 1px 3px 1px rgba(0, 0, 0, 0.15);\n",
              "      filter: drop-shadow(0px 1px 2px rgba(0, 0, 0, 0.3));\n",
              "      fill: #FFFFFF;\n",
              "    }\n",
              "  </style>\n",
              "\n",
              "      <script>\n",
              "        const buttonEl =\n",
              "          document.querySelector('#df-b0c7ab2d-02f7-4b95-9ce6-e8f8bc0f47f5 button.colab-df-convert');\n",
              "        buttonEl.style.display =\n",
              "          google.colab.kernel.accessAllowed ? 'block' : 'none';\n",
              "\n",
              "        async function convertToInteractive(key) {\n",
              "          const element = document.querySelector('#df-b0c7ab2d-02f7-4b95-9ce6-e8f8bc0f47f5');\n",
              "          const dataTable =\n",
              "            await google.colab.kernel.invokeFunction('convertToInteractive',\n",
              "                                                     [key], {});\n",
              "          if (!dataTable) return;\n",
              "\n",
              "          const docLinkHtml = 'Like what you see? Visit the ' +\n",
              "            '<a target=\"_blank\" href=https://colab.research.google.com/notebooks/data_table.ipynb>data table notebook</a>'\n",
              "            + ' to learn more about interactive tables.';\n",
              "          element.innerHTML = '';\n",
              "          dataTable['output_type'] = 'display_data';\n",
              "          await google.colab.output.renderOutput(dataTable, element);\n",
              "          const docLink = document.createElement('div');\n",
              "          docLink.innerHTML = docLinkHtml;\n",
              "          element.appendChild(docLink);\n",
              "        }\n",
              "      </script>\n",
              "    </div>\n",
              "  </div>\n",
              "  "
            ]
          },
          "metadata": {},
          "execution_count": 59
        }
      ]
    },
    {
      "cell_type": "code",
      "source": [
        "df=df.merge(df2,on=\"asin\", how='left')"
      ],
      "metadata": {
        "id": "SwzSAq5EhqUc"
      },
      "execution_count": null,
      "outputs": []
    },
    {
      "cell_type": "code",
      "source": [
        "df.head()"
      ],
      "metadata": {
        "colab": {
          "base_uri": "https://localhost:8080/",
          "height": 669
        },
        "id": "nNSDc0i5gh-g",
        "outputId": "5923482c-95ad-4f3d-e334-14a0f1cd5db5"
      },
      "execution_count": null,
      "outputs": [
        {
          "output_type": "execute_result",
          "data": {
            "text/plain": [
              "         asin            title  price  \\\n",
              "0  5555991584  Memory of Trees   9.49   \n",
              "1  5555991584  Memory of Trees   9.49   \n",
              "2  5555991584  Memory of Trees   9.49   \n",
              "3  5555991584  Memory of Trees   9.49   \n",
              "4  5555991584  Memory of Trees   9.49   \n",
              "\n",
              "                                               imUrl  \\\n",
              "0  http://ecx.images-amazon.com/images/I/51b5WDjd...   \n",
              "1  http://ecx.images-amazon.com/images/I/51b5WDjd...   \n",
              "2  http://ecx.images-amazon.com/images/I/51b5WDjd...   \n",
              "3  http://ecx.images-amazon.com/images/I/51b5WDjd...   \n",
              "4  http://ecx.images-amazon.com/images/I/51b5WDjd...   \n",
              "\n",
              "                                             related          salesRank  \\\n",
              "0  {'also_bought': ['B000002LRT', 'B000002LRR', '...  {'Music': 939190}   \n",
              "1  {'also_bought': ['B000002LRT', 'B000002LRR', '...  {'Music': 939190}   \n",
              "2  {'also_bought': ['B000002LRT', 'B000002LRR', '...  {'Music': 939190}   \n",
              "3  {'also_bought': ['B000002LRT', 'B000002LRR', '...  {'Music': 939190}   \n",
              "4  {'also_bought': ['B000002LRT', 'B000002LRR', '...  {'Music': 939190}   \n",
              "\n",
              "                                          categories description brand  \\\n",
              "0  [[CDs & Vinyl, New Age, Celtic New Age], [CDs ...         NaN   NaN   \n",
              "1  [[CDs & Vinyl, New Age, Celtic New Age], [CDs ...         NaN   NaN   \n",
              "2  [[CDs & Vinyl, New Age, Celtic New Age], [CDs ...         NaN   NaN   \n",
              "3  [[CDs & Vinyl, New Age, Celtic New Age], [CDs ...         NaN   NaN   \n",
              "4  [[CDs & Vinyl, New Age, Celtic New Age], [CDs ...         NaN   NaN   \n",
              "\n",
              "       reviewerID                                      reviewerName helpful  \\\n",
              "0  A2EFCYXHNK06IS  Abigail Perkins \"Abby &#34;Reads Too Much&#34...  [4, 5]   \n",
              "1  A1WR23ER5HMAA9                                               AKB  [1, 1]   \n",
              "2  A2IR4Q0GPAFJKW                                         Alexander  [0, 0]   \n",
              "3  A2V0KUVAB9HSYO                                      Alison Hight  [0, 1]   \n",
              "4  A1J0GL9HCA7ELW                           Al the Pal \"Al the Pal\"  [3, 3]   \n",
              "\n",
              "                                          reviewText  overall  \\\n",
              "0  The anthemic title track begins &quot;The Memo...      5.0   \n",
              "1  Just when I thought Enya couldn't possibly get...      5.0   \n",
              "2  Nice CD for easy listening.  My husband and I ...      4.0   \n",
              "3  I really liked this CD, especially the differe...      4.0   \n",
              "4  Enya's richly chorded style has smitten me onc...      5.0   \n",
              "\n",
              "                                            summary  unixReviewTime  \\\n",
              "0                     Enya Experiments And Succeeds    9.784800e+08   \n",
              "1                   How to improve upon perfection.    9.534240e+08   \n",
              "2                                   Good listening.    1.393546e+09   \n",
              "3                                          Loved It    9.661248e+08   \n",
              "4  Another Hauntingly Beautiful Collection of Songs    1.007683e+09   \n",
              "\n",
              "    reviewTime  \n",
              "0   01 3, 2001  \n",
              "1  03 19, 2000  \n",
              "2  02 28, 2014  \n",
              "3  08 13, 2000  \n",
              "4   12 7, 2001  "
            ],
            "text/html": [
              "\n",
              "  <div id=\"df-a4e469c5-f65a-4305-b11d-73482b5effcb\">\n",
              "    <div class=\"colab-df-container\">\n",
              "      <div>\n",
              "<style scoped>\n",
              "    .dataframe tbody tr th:only-of-type {\n",
              "        vertical-align: middle;\n",
              "    }\n",
              "\n",
              "    .dataframe tbody tr th {\n",
              "        vertical-align: top;\n",
              "    }\n",
              "\n",
              "    .dataframe thead th {\n",
              "        text-align: right;\n",
              "    }\n",
              "</style>\n",
              "<table border=\"1\" class=\"dataframe\">\n",
              "  <thead>\n",
              "    <tr style=\"text-align: right;\">\n",
              "      <th></th>\n",
              "      <th>asin</th>\n",
              "      <th>title</th>\n",
              "      <th>price</th>\n",
              "      <th>imUrl</th>\n",
              "      <th>related</th>\n",
              "      <th>salesRank</th>\n",
              "      <th>categories</th>\n",
              "      <th>description</th>\n",
              "      <th>brand</th>\n",
              "      <th>reviewerID</th>\n",
              "      <th>reviewerName</th>\n",
              "      <th>helpful</th>\n",
              "      <th>reviewText</th>\n",
              "      <th>overall</th>\n",
              "      <th>summary</th>\n",
              "      <th>unixReviewTime</th>\n",
              "      <th>reviewTime</th>\n",
              "    </tr>\n",
              "  </thead>\n",
              "  <tbody>\n",
              "    <tr>\n",
              "      <th>0</th>\n",
              "      <td>5555991584</td>\n",
              "      <td>Memory of Trees</td>\n",
              "      <td>9.49</td>\n",
              "      <td>http://ecx.images-amazon.com/images/I/51b5WDjd...</td>\n",
              "      <td>{'also_bought': ['B000002LRT', 'B000002LRR', '...</td>\n",
              "      <td>{'Music': 939190}</td>\n",
              "      <td>[[CDs &amp; Vinyl, New Age, Celtic New Age], [CDs ...</td>\n",
              "      <td>NaN</td>\n",
              "      <td>NaN</td>\n",
              "      <td>A2EFCYXHNK06IS</td>\n",
              "      <td>Abigail Perkins \"Abby &amp;#34;Reads Too Much&amp;#34...</td>\n",
              "      <td>[4, 5]</td>\n",
              "      <td>The anthemic title track begins &amp;quot;The Memo...</td>\n",
              "      <td>5.0</td>\n",
              "      <td>Enya Experiments And Succeeds</td>\n",
              "      <td>9.784800e+08</td>\n",
              "      <td>01 3, 2001</td>\n",
              "    </tr>\n",
              "    <tr>\n",
              "      <th>1</th>\n",
              "      <td>5555991584</td>\n",
              "      <td>Memory of Trees</td>\n",
              "      <td>9.49</td>\n",
              "      <td>http://ecx.images-amazon.com/images/I/51b5WDjd...</td>\n",
              "      <td>{'also_bought': ['B000002LRT', 'B000002LRR', '...</td>\n",
              "      <td>{'Music': 939190}</td>\n",
              "      <td>[[CDs &amp; Vinyl, New Age, Celtic New Age], [CDs ...</td>\n",
              "      <td>NaN</td>\n",
              "      <td>NaN</td>\n",
              "      <td>A1WR23ER5HMAA9</td>\n",
              "      <td>AKB</td>\n",
              "      <td>[1, 1]</td>\n",
              "      <td>Just when I thought Enya couldn't possibly get...</td>\n",
              "      <td>5.0</td>\n",
              "      <td>How to improve upon perfection.</td>\n",
              "      <td>9.534240e+08</td>\n",
              "      <td>03 19, 2000</td>\n",
              "    </tr>\n",
              "    <tr>\n",
              "      <th>2</th>\n",
              "      <td>5555991584</td>\n",
              "      <td>Memory of Trees</td>\n",
              "      <td>9.49</td>\n",
              "      <td>http://ecx.images-amazon.com/images/I/51b5WDjd...</td>\n",
              "      <td>{'also_bought': ['B000002LRT', 'B000002LRR', '...</td>\n",
              "      <td>{'Music': 939190}</td>\n",
              "      <td>[[CDs &amp; Vinyl, New Age, Celtic New Age], [CDs ...</td>\n",
              "      <td>NaN</td>\n",
              "      <td>NaN</td>\n",
              "      <td>A2IR4Q0GPAFJKW</td>\n",
              "      <td>Alexander</td>\n",
              "      <td>[0, 0]</td>\n",
              "      <td>Nice CD for easy listening.  My husband and I ...</td>\n",
              "      <td>4.0</td>\n",
              "      <td>Good listening.</td>\n",
              "      <td>1.393546e+09</td>\n",
              "      <td>02 28, 2014</td>\n",
              "    </tr>\n",
              "    <tr>\n",
              "      <th>3</th>\n",
              "      <td>5555991584</td>\n",
              "      <td>Memory of Trees</td>\n",
              "      <td>9.49</td>\n",
              "      <td>http://ecx.images-amazon.com/images/I/51b5WDjd...</td>\n",
              "      <td>{'also_bought': ['B000002LRT', 'B000002LRR', '...</td>\n",
              "      <td>{'Music': 939190}</td>\n",
              "      <td>[[CDs &amp; Vinyl, New Age, Celtic New Age], [CDs ...</td>\n",
              "      <td>NaN</td>\n",
              "      <td>NaN</td>\n",
              "      <td>A2V0KUVAB9HSYO</td>\n",
              "      <td>Alison Hight</td>\n",
              "      <td>[0, 1]</td>\n",
              "      <td>I really liked this CD, especially the differe...</td>\n",
              "      <td>4.0</td>\n",
              "      <td>Loved It</td>\n",
              "      <td>9.661248e+08</td>\n",
              "      <td>08 13, 2000</td>\n",
              "    </tr>\n",
              "    <tr>\n",
              "      <th>4</th>\n",
              "      <td>5555991584</td>\n",
              "      <td>Memory of Trees</td>\n",
              "      <td>9.49</td>\n",
              "      <td>http://ecx.images-amazon.com/images/I/51b5WDjd...</td>\n",
              "      <td>{'also_bought': ['B000002LRT', 'B000002LRR', '...</td>\n",
              "      <td>{'Music': 939190}</td>\n",
              "      <td>[[CDs &amp; Vinyl, New Age, Celtic New Age], [CDs ...</td>\n",
              "      <td>NaN</td>\n",
              "      <td>NaN</td>\n",
              "      <td>A1J0GL9HCA7ELW</td>\n",
              "      <td>Al the Pal \"Al the Pal\"</td>\n",
              "      <td>[3, 3]</td>\n",
              "      <td>Enya's richly chorded style has smitten me onc...</td>\n",
              "      <td>5.0</td>\n",
              "      <td>Another Hauntingly Beautiful Collection of Songs</td>\n",
              "      <td>1.007683e+09</td>\n",
              "      <td>12 7, 2001</td>\n",
              "    </tr>\n",
              "  </tbody>\n",
              "</table>\n",
              "</div>\n",
              "      <button class=\"colab-df-convert\" onclick=\"convertToInteractive('df-a4e469c5-f65a-4305-b11d-73482b5effcb')\"\n",
              "              title=\"Convert this dataframe to an interactive table.\"\n",
              "              style=\"display:none;\">\n",
              "        \n",
              "  <svg xmlns=\"http://www.w3.org/2000/svg\" height=\"24px\"viewBox=\"0 0 24 24\"\n",
              "       width=\"24px\">\n",
              "    <path d=\"M0 0h24v24H0V0z\" fill=\"none\"/>\n",
              "    <path d=\"M18.56 5.44l.94 2.06.94-2.06 2.06-.94-2.06-.94-.94-2.06-.94 2.06-2.06.94zm-11 1L8.5 8.5l.94-2.06 2.06-.94-2.06-.94L8.5 2.5l-.94 2.06-2.06.94zm10 10l.94 2.06.94-2.06 2.06-.94-2.06-.94-.94-2.06-.94 2.06-2.06.94z\"/><path d=\"M17.41 7.96l-1.37-1.37c-.4-.4-.92-.59-1.43-.59-.52 0-1.04.2-1.43.59L10.3 9.45l-7.72 7.72c-.78.78-.78 2.05 0 2.83L4 21.41c.39.39.9.59 1.41.59.51 0 1.02-.2 1.41-.59l7.78-7.78 2.81-2.81c.8-.78.8-2.07 0-2.86zM5.41 20L4 18.59l7.72-7.72 1.47 1.35L5.41 20z\"/>\n",
              "  </svg>\n",
              "      </button>\n",
              "      \n",
              "  <style>\n",
              "    .colab-df-container {\n",
              "      display:flex;\n",
              "      flex-wrap:wrap;\n",
              "      gap: 12px;\n",
              "    }\n",
              "\n",
              "    .colab-df-convert {\n",
              "      background-color: #E8F0FE;\n",
              "      border: none;\n",
              "      border-radius: 50%;\n",
              "      cursor: pointer;\n",
              "      display: none;\n",
              "      fill: #1967D2;\n",
              "      height: 32px;\n",
              "      padding: 0 0 0 0;\n",
              "      width: 32px;\n",
              "    }\n",
              "\n",
              "    .colab-df-convert:hover {\n",
              "      background-color: #E2EBFA;\n",
              "      box-shadow: 0px 1px 2px rgba(60, 64, 67, 0.3), 0px 1px 3px 1px rgba(60, 64, 67, 0.15);\n",
              "      fill: #174EA6;\n",
              "    }\n",
              "\n",
              "    [theme=dark] .colab-df-convert {\n",
              "      background-color: #3B4455;\n",
              "      fill: #D2E3FC;\n",
              "    }\n",
              "\n",
              "    [theme=dark] .colab-df-convert:hover {\n",
              "      background-color: #434B5C;\n",
              "      box-shadow: 0px 1px 3px 1px rgba(0, 0, 0, 0.15);\n",
              "      filter: drop-shadow(0px 1px 2px rgba(0, 0, 0, 0.3));\n",
              "      fill: #FFFFFF;\n",
              "    }\n",
              "  </style>\n",
              "\n",
              "      <script>\n",
              "        const buttonEl =\n",
              "          document.querySelector('#df-a4e469c5-f65a-4305-b11d-73482b5effcb button.colab-df-convert');\n",
              "        buttonEl.style.display =\n",
              "          google.colab.kernel.accessAllowed ? 'block' : 'none';\n",
              "\n",
              "        async function convertToInteractive(key) {\n",
              "          const element = document.querySelector('#df-a4e469c5-f65a-4305-b11d-73482b5effcb');\n",
              "          const dataTable =\n",
              "            await google.colab.kernel.invokeFunction('convertToInteractive',\n",
              "                                                     [key], {});\n",
              "          if (!dataTable) return;\n",
              "\n",
              "          const docLinkHtml = 'Like what you see? Visit the ' +\n",
              "            '<a target=\"_blank\" href=https://colab.research.google.com/notebooks/data_table.ipynb>data table notebook</a>'\n",
              "            + ' to learn more about interactive tables.';\n",
              "          element.innerHTML = '';\n",
              "          dataTable['output_type'] = 'display_data';\n",
              "          await google.colab.output.renderOutput(dataTable, element);\n",
              "          const docLink = document.createElement('div');\n",
              "          docLink.innerHTML = docLinkHtml;\n",
              "          element.appendChild(docLink);\n",
              "        }\n",
              "      </script>\n",
              "    </div>\n",
              "  </div>\n",
              "  "
            ]
          },
          "metadata": {},
          "execution_count": 61
        }
      ]
    },
    {
      "cell_type": "code",
      "source": [
        "df.dropna(inplace=True)"
      ],
      "metadata": {
        "id": "HQyvg7pJkrvQ"
      },
      "execution_count": null,
      "outputs": []
    },
    {
      "cell_type": "code",
      "source": [
        "# convert date column to datetime format\n",
        "df['Date']= pd.to_datetime(df['reviewTime'])\n",
        "# keep only the most recent date of purchase\n",
        "df['rank'] = df.sort_values(['reviewerID','Date']).groupby(['reviewerID'])['Date'].rank(method='min').astype(int)\n",
        "df_rec = df[df['rank']==1]"
      ],
      "metadata": {
        "id": "283fNMRrgiBX"
      },
      "execution_count": null,
      "outputs": []
    },
    {
      "cell_type": "code",
      "source": [
        "df_rec['recency'] = (df_rec['Date'] - pd.to_datetime(min(df_rec['Date']))).dt.days"
      ],
      "metadata": {
        "colab": {
          "base_uri": "https://localhost:8080/"
        },
        "id": "MOfIv4ccgiEG",
        "outputId": "3113f415-a3f8-4b53-e111-b16aef55e4d1"
      },
      "execution_count": null,
      "outputs": [
        {
          "output_type": "stream",
          "name": "stderr",
          "text": [
            "<ipython-input-64-6ccb90a19d8b>:1: SettingWithCopyWarning: \n",
            "A value is trying to be set on a copy of a slice from a DataFrame.\n",
            "Try using .loc[row_indexer,col_indexer] = value instead\n",
            "\n",
            "See the caveats in the documentation: https://pandas.pydata.org/pandas-docs/stable/user_guide/indexing.html#returning-a-view-versus-a-copy\n",
            "  df_rec['recency'] = (df_rec['Date'] - pd.to_datetime(min(df_rec['Date']))).dt.days\n"
          ]
        }
      ]
    },
    {
      "cell_type": "code",
      "source": [
        "freq = df_rec.groupby('reviewerID')['Date'].count()\n",
        "df_freq = pd.DataFrame(freq).reset_index()\n",
        "df_freq.columns = ['reviewerID','frequency']"
      ],
      "metadata": {
        "id": "3VQB8UXWgiG6"
      },
      "execution_count": null,
      "outputs": []
    },
    {
      "cell_type": "code",
      "source": [
        "rec_freq = df_freq.merge(df_rec,on='reviewerID')"
      ],
      "metadata": {
        "id": "w8k9Z7AogiJH"
      },
      "execution_count": null,
      "outputs": []
    },
    {
      "cell_type": "code",
      "source": [
        "#rec_freq['price'] = rec_freq['Quantity']*df['UnitPrice']\n",
        "m = rec_freq.groupby('reviewerID')['price'].sum()\n",
        "m = pd.DataFrame(m).reset_index()\n",
        "m.columns = ['reviewerID','monetary_value']"
      ],
      "metadata": {
        "id": "fd7YRdKugiLe"
      },
      "execution_count": null,
      "outputs": []
    },
    {
      "cell_type": "code",
      "source": [
        "rfm = m.merge(rec_freq,on='reviewerID')"
      ],
      "metadata": {
        "id": "xP9DyiY2giN7"
      },
      "execution_count": null,
      "outputs": []
    },
    {
      "cell_type": "code",
      "source": [
        "finaldf = rfm[['reviewerID','recency','frequency','monetary_value']]"
      ],
      "metadata": {
        "id": "ZYiOh1FigiQK"
      },
      "execution_count": null,
      "outputs": []
    },
    {
      "cell_type": "code",
      "source": [
        "import seaborn as sns\n",
        "import matplotlib.pyplot as plt\n",
        "list1 = ['recency','frequency','monetary_value']\n",
        "for i in list1:\n",
        "    print(str(i)+': ')\n",
        "    ax = sns.boxplot(x=finaldf[str(i)])\n",
        "    plt.show()"
      ],
      "metadata": {
        "colab": {
          "base_uri": "https://localhost:8080/",
          "height": 856
        },
        "id": "B6a6e34MgiSv",
        "outputId": "836489c5-d7e6-4c14-c70b-6e4609b80216"
      },
      "execution_count": null,
      "outputs": [
        {
          "output_type": "stream",
          "name": "stdout",
          "text": [
            "recency: \n"
          ]
        },
        {
          "output_type": "display_data",
          "data": {
            "text/plain": [
              "<Figure size 432x288 with 1 Axes>"
            ],
            "image/png": "[encoded data removed]"
          },
          "metadata": {
            "needs_background": "light"
          }
        },
        {
          "output_type": "stream",
          "name": "stdout",
          "text": [
            "frequency: \n"
          ]
        },
        {
          "output_type": "display_data",
          "data": {
            "text/plain": [
              "<Figure size 432x288 with 1 Axes>"
            ],
            "image/png": "[encoded data removed]"
          },
          "metadata": {
            "needs_background": "light"
          }
        },
        {
          "output_type": "stream",
          "name": "stdout",
          "text": [
            "monetary_value: \n"
          ]
        },
        {
          "output_type": "display_data",
          "data": {
            "text/plain": [
              "<Figure size 432x288 with 1 Axes>"
            ],
            "image/png": "[encoded data removed]"
          },
          "metadata": {
            "needs_background": "light"
          }
        }
      ]
    },
    {
      "cell_type": "code",
      "source": [
        "from scipy import stats\n",
        "import numpy as np\n",
        "# remove the customer id column\n",
        "new_df = finaldf[['recency','frequency','monetary_value']]\n",
        "# remove outliers\n",
        "z_scores = stats.zscore(new_df)\n",
        "abs_z_scores = np.abs(z_scores)\n",
        "filtered_entries = (abs_z_scores < 3).all(axis=1)\n",
        "new_df = new_df[filtered_entries]"
      ],
      "metadata": {
        "id": "MnFgKcjhgiVc"
      },
      "execution_count": null,
      "outputs": []
    },
    {
      "cell_type": "code",
      "source": [
        "from sklearn.preprocessing import StandardScaler\n",
        "new_df = new_df.drop_duplicates()\n",
        "col_names = ['recency', 'frequency', 'monetary_value']\n",
        "features = new_df[col_names]\n",
        "scaler = StandardScaler().fit(features.values)\n",
        "features = scaler.transform(features.values)\n",
        "scaled_features = pd.DataFrame(features, columns = col_names)"
      ],
      "metadata": {
        "id": "N9ISNKB2giXx"
      },
      "execution_count": null,
      "outputs": []
    },
    {
      "cell_type": "code",
      "source": [
        "import matplotlib.pyplot as plt\n",
        "from sklearn.datasets import make_blobs\n",
        "from sklearn.cluster import KMeans\n",
        "from sklearn.metrics import silhouette_score\n",
        "from sklearn.decomposition import PCA\n",
        "from mpl_toolkits.mplot3d import Axes3D\n",
        "SSE = []\n",
        "for cluster in range(1,10):\n",
        "    kmeans = KMeans(n_clusters = cluster, init='k-means++')\n",
        "    kmeans.fit(scaled_features)\n",
        "    SSE.append(kmeans.inertia_)\n",
        "# converting the results into a dataframe and plotting them\n",
        "frame = pd.DataFrame({'Cluster':range(1,10), 'SSE':SSE})\n",
        "plt.figure(figsize=(12,6))\n",
        "plt.plot(frame['Cluster'], frame['SSE'], marker='o')\n",
        "plt.xlabel('Number of clusters')\n",
        "plt.ylabel('Inertia')"
      ],
      "metadata": {
        "colab": {
          "base_uri": "https://localhost:8080/",
          "height": 405
        },
        "id": "fYM4FMjPgiaJ",
        "outputId": "d1527b65-6b80-48d3-cc00-8187bc206523"
      },
      "execution_count": null,
      "outputs": [
        {
          "output_type": "execute_result",
          "data": {
            "text/plain": [
              "Text(0, 0.5, 'Inertia')"
            ]
          },
          "metadata": {},
          "execution_count": 73
        },
        {
          "output_type": "display_data",
          "data": {
            "text/plain": [
              "<Figure size 864x432 with 1 Axes>"
            ],
            "image/png": "[encoded data removed]"
          },
          "metadata": {
            "needs_background": "light"
          }
        }
      ]
    },
    {
      "cell_type": "code",
      "source": [
        "# First, build a model with 4 clusters\n",
        "kmeans = KMeans( n_clusters = 4, init='k-means++')\n",
        "kmeans.fit(scaled_features)"
      ],
      "metadata": {
        "colab": {
          "base_uri": "https://localhost:8080/"
        },
        "id": "9M20NC3kgicx",
        "outputId": "788b000e-239b-4238-f9e9-cd291f95fd8f"
      },
      "execution_count": null,
      "outputs": [
        {
          "output_type": "execute_result",
          "data": {
            "text/plain": [
              "KMeans(n_clusters=4)"
            ]
          },
          "metadata": {},
          "execution_count": 74
        }
      ]
    },
    {
      "cell_type": "code",
      "source": [
        "print(silhouette_score(scaled_features, kmeans.labels_, metric='euclidean'))"
      ],
      "metadata": {
        "colab": {
          "base_uri": "https://localhost:8080/"
        },
        "id": "M-BHrYyJgifR",
        "outputId": "cb7f1b02-211c-44bc-9122-fefe5135dbf2"
      },
      "execution_count": null,
      "outputs": [
        {
          "output_type": "stream",
          "name": "stdout",
          "text": [
            "0.47730593986299225\n"
          ]
        }
      ]
    },
    {
      "cell_type": "code",
      "source": [
        "pred = kmeans.predict(scaled_features)\n",
        "frame = pd.DataFrame(new_df)\n",
        "frame['cluster'] = pred\n",
        "## i have to reviewer names also here.\n",
        "\n",
        "frame['reviewerID'] =finaldf[\"reviewerID\"]\n",
        "frame"
      ],
      "metadata": {
        "colab": {
          "base_uri": "https://localhost:8080/",
          "height": 424
        },
        "id": "bawZP9wKgihb",
        "outputId": "ffce3e79-14dc-40ea-9db9-720feca8e968"
      },
      "execution_count": null,
      "outputs": [
        {
          "output_type": "execute_result",
          "data": {
            "text/plain": [
              "       recency  frequency  monetary_value  cluster             reviewerID\n",
              "0         5688          1            9.99        1  A00438023NNXSDBGXK56L\n",
              "1         5469          1           13.95        1  A00715673FB83Q7XQEBCN\n",
              "2         5781          2           30.10        3  A02852361P0OLWYC4FW7X\n",
              "4         5635          1           10.59        1  A034294113MZYOJ6UMXUM\n",
              "5         5983          1           18.95        1  A03973901X96S9K937P3Y\n",
              "...        ...        ...             ...      ...                    ...\n",
              "74195      539          1            8.49        0          AZZ8GC4OVLS1Q\n",
              "74197      920          1            3.59        0          AZZIJX3BJAOE2\n",
              "74198     3609          1           15.06        2          AZZL199Q879FU\n",
              "74201     5464          1            7.90        1          AZZRPY6IJC7SP\n",
              "74202     1041          1            8.93        0          AZZWISBNPIJTE\n",
              "\n",
              "[55023 rows x 5 columns]"
            ],
            "text/html": [
              "\n",
              "  <div id=\"df-1b712bef-dc35-4742-a601-714204165e52\">\n",
              "    <div class=\"colab-df-container\">\n",
              "      <div>\n",
              "<style scoped>\n",
              "    .dataframe tbody tr th:only-of-type {\n",
              "        vertical-align: middle;\n",
              "    }\n",
              "\n",
              "    .dataframe tbody tr th {\n",
              "        vertical-align: top;\n",
              "    }\n",
              "\n",
              "    .dataframe thead th {\n",
              "        text-align: right;\n",
              "    }\n",
              "</style>\n",
              "<table border=\"1\" class=\"dataframe\">\n",
              "  <thead>\n",
              "    <tr style=\"text-align: right;\">\n",
              "      <th></th>\n",
              "      <th>recency</th>\n",
              "      <th>frequency</th>\n",
              "      <th>monetary_value</th>\n",
              "      <th>cluster</th>\n",
              "      <th>reviewerID</th>\n",
              "    </tr>\n",
              "  </thead>\n",
              "  <tbody>\n",
              "    <tr>\n",
              "      <th>0</th>\n",
              "      <td>5688</td>\n",
              "      <td>1</td>\n",
              "      <td>9.99</td>\n",
              "      <td>1</td>\n",
              "      <td>A00438023NNXSDBGXK56L</td>\n",
              "    </tr>\n",
              "    <tr>\n",
              "      <th>1</th>\n",
              "      <td>5469</td>\n",
              "      <td>1</td>\n",
              "      <td>13.95</td>\n",
              "      <td>1</td>\n",
              "      <td>A00715673FB83Q7XQEBCN</td>\n",
              "    </tr>\n",
              "    <tr>\n",
              "      <th>2</th>\n",
              "      <td>5781</td>\n",
              "      <td>2</td>\n",
              "      <td>30.10</td>\n",
              "      <td>3</td>\n",
              "      <td>A02852361P0OLWYC4FW7X</td>\n",
              "    </tr>\n",
              "    <tr>\n",
              "      <th>4</th>\n",
              "      <td>5635</td>\n",
              "      <td>1</td>\n",
              "      <td>10.59</td>\n",
              "      <td>1</td>\n",
              "      <td>A034294113MZYOJ6UMXUM</td>\n",
              "    </tr>\n",
              "    <tr>\n",
              "      <th>5</th>\n",
              "      <td>5983</td>\n",
              "      <td>1</td>\n",
              "      <td>18.95</td>\n",
              "      <td>1</td>\n",
              "      <td>A03973901X96S9K937P3Y</td>\n",
              "    </tr>\n",
              "    <tr>\n",
              "      <th>...</th>\n",
              "      <td>...</td>\n",
              "      <td>...</td>\n",
              "      <td>...</td>\n",
              "      <td>...</td>\n",
              "      <td>...</td>\n",
              "    </tr>\n",
              "    <tr>\n",
              "      <th>74195</th>\n",
              "      <td>539</td>\n",
              "      <td>1</td>\n",
              "      <td>8.49</td>\n",
              "      <td>0</td>\n",
              "      <td>AZZ8GC4OVLS1Q</td>\n",
              "    </tr>\n",
              "    <tr>\n",
              "      <th>74197</th>\n",
              "      <td>920</td>\n",
              "      <td>1</td>\n",
              "      <td>3.59</td>\n",
              "      <td>0</td>\n",
              "      <td>AZZIJX3BJAOE2</td>\n",
              "    </tr>\n",
              "    <tr>\n",
              "      <th>74198</th>\n",
              "      <td>3609</td>\n",
              "      <td>1</td>\n",
              "      <td>15.06</td>\n",
              "      <td>2</td>\n",
              "      <td>AZZL199Q879FU</td>\n",
              "    </tr>\n",
              "    <tr>\n",
              "      <th>74201</th>\n",
              "      <td>5464</td>\n",
              "      <td>1</td>\n",
              "      <td>7.90</td>\n",
              "      <td>1</td>\n",
              "      <td>AZZRPY6IJC7SP</td>\n",
              "    </tr>\n",
              "    <tr>\n",
              "      <th>74202</th>\n",
              "      <td>1041</td>\n",
              "      <td>1</td>\n",
              "      <td>8.93</td>\n",
              "      <td>0</td>\n",
              "      <td>AZZWISBNPIJTE</td>\n",
              "    </tr>\n",
              "  </tbody>\n",
              "</table>\n",
              "<p>55023 rows × 5 columns</p>\n",
              "</div>\n",
              "      <button class=\"colab-df-convert\" onclick=\"convertToInteractive('df-1b712bef-dc35-4742-a601-714204165e52')\"\n",
              "              title=\"Convert this dataframe to an interactive table.\"\n",
              "              style=\"display:none;\">\n",
              "        \n",
              "  <svg xmlns=\"http://www.w3.org/2000/svg\" height=\"24px\"viewBox=\"0 0 24 24\"\n",
              "       width=\"24px\">\n",
              "    <path d=\"M0 0h24v24H0V0z\" fill=\"none\"/>\n",
              "    <path d=\"M18.56 5.44l.94 2.06.94-2.06 2.06-.94-2.06-.94-.94-2.06-.94 2.06-2.06.94zm-11 1L8.5 8.5l.94-2.06 2.06-.94-2.06-.94L8.5 2.5l-.94 2.06-2.06.94zm10 10l.94 2.06.94-2.06 2.06-.94-2.06-.94-.94-2.06-.94 2.06-2.06.94z\"/><path d=\"M17.41 7.96l-1.37-1.37c-.4-.4-.92-.59-1.43-.59-.52 0-1.04.2-1.43.59L10.3 9.45l-7.72 7.72c-.78.78-.78 2.05 0 2.83L4 21.41c.39.39.9.59 1.41.59.51 0 1.02-.2 1.41-.59l7.78-7.78 2.81-2.81c.8-.78.8-2.07 0-2.86zM5.41 20L4 18.59l7.72-7.72 1.47 1.35L5.41 20z\"/>\n",
              "  </svg>\n",
              "      </button>\n",
              "      \n",
              "  <style>\n",
              "    .colab-df-container {\n",
              "      display:flex;\n",
              "      flex-wrap:wrap;\n",
              "      gap: 12px;\n",
              "    }\n",
              "\n",
              "    .colab-df-convert {\n",
              "      background-color: #E8F0FE;\n",
              "      border: none;\n",
              "      border-radius: 50%;\n",
              "      cursor: pointer;\n",
              "      display: none;\n",
              "      fill: #1967D2;\n",
              "      height: 32px;\n",
              "      padding: 0 0 0 0;\n",
              "      width: 32px;\n",
              "    }\n",
              "\n",
              "    .colab-df-convert:hover {\n",
              "      background-color: #E2EBFA;\n",
              "      box-shadow: 0px 1px 2px rgba(60, 64, 67, 0.3), 0px 1px 3px 1px rgba(60, 64, 67, 0.15);\n",
              "      fill: #174EA6;\n",
              "    }\n",
              "\n",
              "    [theme=dark] .colab-df-convert {\n",
              "      background-color: #3B4455;\n",
              "      fill: #D2E3FC;\n",
              "    }\n",
              "\n",
              "    [theme=dark] .colab-df-convert:hover {\n",
              "      background-color: #434B5C;\n",
              "      box-shadow: 0px 1px 3px 1px rgba(0, 0, 0, 0.15);\n",
              "      filter: drop-shadow(0px 1px 2px rgba(0, 0, 0, 0.3));\n",
              "      fill: #FFFFFF;\n",
              "    }\n",
              "  </style>\n",
              "\n",
              "      <script>\n",
              "        const buttonEl =\n",
              "          document.querySelector('#df-1b712bef-dc35-4742-a601-714204165e52 button.colab-df-convert');\n",
              "        buttonEl.style.display =\n",
              "          google.colab.kernel.accessAllowed ? 'block' : 'none';\n",
              "\n",
              "        async function convertToInteractive(key) {\n",
              "          const element = document.querySelector('#df-1b712bef-dc35-4742-a601-714204165e52');\n",
              "          const dataTable =\n",
              "            await google.colab.kernel.invokeFunction('convertToInteractive',\n",
              "                                                     [key], {});\n",
              "          if (!dataTable) return;\n",
              "\n",
              "          const docLinkHtml = 'Like what you see? Visit the ' +\n",
              "            '<a target=\"_blank\" href=https://colab.research.google.com/notebooks/data_table.ipynb>data table notebook</a>'\n",
              "            + ' to learn more about interactive tables.';\n",
              "          element.innerHTML = '';\n",
              "          dataTable['output_type'] = 'display_data';\n",
              "          await google.colab.output.renderOutput(dataTable, element);\n",
              "          const docLink = document.createElement('div');\n",
              "          docLink.innerHTML = docLinkHtml;\n",
              "          element.appendChild(docLink);\n",
              "        }\n",
              "      </script>\n",
              "    </div>\n",
              "  </div>\n",
              "  "
            ]
          },
          "metadata": {},
          "execution_count": 76
        }
      ]
    },
    {
      "cell_type": "code",
      "source": [
        "len(frame[\"reviewerID\"].unique())"
      ],
      "metadata": {
        "colab": {
          "base_uri": "https://localhost:8080/"
        },
        "id": "IlLnrOwEoc2a",
        "outputId": "d0d2fc03-6609-4ef2-e1ac-b23114ae340e"
      },
      "execution_count": null,
      "outputs": [
        {
          "output_type": "execute_result",
          "data": {
            "text/plain": [
              "55023"
            ]
          },
          "metadata": {},
          "execution_count": 77
        }
      ]
    },
    {
      "cell_type": "code",
      "source": [
        "avg_df = frame.groupby(['cluster'], as_index=False).mean()\n",
        "for i in list1:\n",
        "    sns.barplot(x='cluster',y=str(i),data=avg_df)\n",
        "    plt.show()"
      ],
      "metadata": {
        "colab": {
          "base_uri": "https://localhost:8080/",
          "height": 803
        },
        "id": "BE_9nMnRgij3",
        "outputId": "581ccd9a-b376-4194-c9e8-64abc3829930"
      },
      "execution_count": null,
      "outputs": [
        {
          "output_type": "display_data",
          "data": {
            "text/plain": [
              "<Figure size 432x288 with 1 Axes>"
            ],
            "image/png": "[encoded data removed]"
          },
          "metadata": {
            "needs_background": "light"
          }
        },
        {
          "output_type": "display_data",
          "data": {
            "text/plain": [
              "<Figure size 432x288 with 1 Axes>"
            ],
            "image/png": "[encoded data removed]"
          },
          "metadata": {
            "needs_background": "light"
          }
        },
        {
          "output_type": "display_data",
          "data": {
            "text/plain": [
              "<Figure size 432x288 with 1 Axes>"
            ],
            "image/png": "[encoded data removed]"
          },
          "metadata": {
            "needs_background": "light"
          }
        }
      ]
    },
    {
      "cell_type": "code",
      "source": [
        "### Interpretation :-\n",
        "0 cluster : These customers are less frequent customers ,they come very rarely.aslo seeing the monetory values purchase cost is also.\n",
        "1 cluster : These are very old customers with less frequency as well as less purchase values.\n",
        "2 cluster : These customers are not new also not so frequent buyers but their purchases are high.\n",
        "3 cluster : These are most loyal customers with high frequency as well as with high purchasing will."
      ],
      "metadata": {
        "id": "aCmMEuO9gimm"
      },
      "execution_count": null,
      "outputs": []
    },
    {
      "cell_type": "code",
      "source": [],
      "metadata": {
        "id": "NutLItLegipD"
      },
      "execution_count": null,
      "outputs": []
    },
    {
      "cell_type": "code",
      "source": [],
      "metadata": {
        "id": "4AVqJPuYgirf"
      },
      "execution_count": null,
      "outputs": []
    },
    {
      "cell_type": "code",
      "source": [],
      "metadata": {
        "id": "2T_zqjSkgit7"
      },
      "execution_count": null,
      "outputs": []
    },
    {
      "cell_type": "code",
      "source": [],
      "metadata": {
        "id": "lLPS_rAqgiwR"
      },
      "execution_count": null,
      "outputs": []
    },
    {
      "cell_type": "code",
      "source": [],
      "metadata": {
        "id": "gP1X-EcCgiy8"
      },
      "execution_count": null,
      "outputs": []
    },
    {
      "cell_type": "code",
      "source": [],
      "metadata": {
        "id": "9Qx-j9l_gi1M"
      },
      "execution_count": null,
      "outputs": []
    },
    {
      "cell_type": "code",
      "source": [],
      "metadata": {
        "id": "NlRVDKslgi4A"
      },
      "execution_count": null,
      "outputs": []
    }
  ]
}