{
  "cells": [
    {
      "cell_type": "markdown",
      "source": [
        "# classification of reviews"
      ],
      "metadata": {
        "id": "biEv_IuqbTRP"
      }
    },
    {
      "cell_type": "code",
      "source": [
        "from google.colab import drive\n",
        "drive.mount('/content/drive')\n"
      ],
      "metadata": {
        "colab": {
          "base_uri": "https://localhost:8080/"
        },
        "id": "7eA3QDMmpzDy",
        "outputId": "7f6a425c-bd38-4792-c06b-816e0b4dbfd3"
      },
      "execution_count": null,
      "outputs": [
        {
          "output_type": "stream",
          "name": "stdout",
          "text": [
            "Drive already mounted at /content/drive; to attempt to forcibly remount, call drive.mount(\"/content/drive\", force_remount=True).\n"
          ]
        }
      ]
    },
    {
      "cell_type": "code",
      "source": [
        "## Importing required libraries :\n",
        "import pandas as pd\n",
        "import numpy as np\n",
        "\n",
        "# for removing accented and special chracters\n",
        "import unicodedata\n",
        "\n",
        "# for stopwords Removal\n",
        "from nltk.corpus import stopwords\n",
        "from nltk.tokenize import word_tokenize\n",
        "\n",
        "# for calculating Polarity and Subjectivity\n",
        "from textblob import TextBlob\n",
        "import matplotlib.pyplot as plt\n",
        "import seaborn as sns\n",
        "# function for making ngrams\n",
        "from nltk.util import ngrams\n",
        "\n",
        "# load in all the modules we're going to need #NLTK libraries\n",
        "import nltk\n",
        "import collections\n",
        "\n",
        "# for Wordscloud\n",
        "import nltk\n",
        "import re\n",
        "import string\n",
        "from wordcloud import WordCloud,STOPWORDS\n",
        "from nltk.stem.porter import PorterStemmer\n",
        "from wordcloud import WordCloud,STOPWORDS\n",
        "from sklearn.feature_extraction.text import CountVectorizer\n",
        "from sklearn.feature_extraction.text import TfidfVectorizer\n",
        "\n",
        "#download vader from nltk\n",
        "nltk.download('vader_lexicon')\n",
        "from nltk.sentiment.vader import SentimentIntensityAnalyzer\n",
        "\n",
        "## for resampling\n",
        "from sklearn.utils import resample\n",
        "\n",
        "# Machine Learning libraries\n",
        "import sklearn \n",
        "from sklearn.svm import SVC\n",
        "from sklearn.svm import LinearSVC\n",
        "from sklearn.preprocessing import LabelEncoder\n",
        "from sklearn.preprocessing import StandardScaler\n",
        "from sklearn.preprocessing import MinMaxScaler\n",
        "from sklearn.ensemble import ExtraTreesClassifier\n",
        "from sklearn.pipeline import make_pipeline\n",
        "from sklearn.model_selection import GridSearchCV\n",
        "from sklearn.linear_model import LogisticRegression\n",
        "from sklearn.tree import DecisionTreeClassifier\n",
        "from sklearn.naive_bayes import MultinomialNB\n",
        "from sklearn.cluster import KMeans\n",
        "from sklearn.ensemble  import RandomForestClassifier\n",
        "from sklearn.linear_model import SGDClassifier\n",
        "from sklearn.model_selection import GridSearchCV\n",
        "from sklearn.ensemble import RandomForestClassifier,AdaBoostClassifier\n",
        "from sklearn.naive_bayes import BernoulliNB \n",
        "from sklearn.neighbors import KNeighborsClassifier\n",
        "from sklearn.multiclass import OneVsRestClassifier\n",
        "from sklearn.svm import SVC\n",
        "from sklearn.pipeline import Pipeline\n",
        "from sklearn.model_selection import train_test_split\n",
        "from sklearn.preprocessing import label_binarize\n",
        "from sklearn import svm, datasets\n",
        "from sklearn import preprocessing \n",
        "\n",
        "#Metrics libraries\n",
        "from sklearn import metrics\n",
        "from sklearn.metrics import classification_report,accuracy_score,recall_score,precision_score,f1_score\n",
        "from sklearn.model_selection import cross_val_score,cross_validate\n",
        "from sklearn.metrics import roc_auc_score,confusion_matrix\n",
        "from sklearn.metrics import roc_curve, auc\n",
        "\n",
        "#Visualization libraries\n",
        "import matplotlib.pyplot as plt \n",
        "from matplotlib import rcParams\n",
        "import seaborn as sns\n",
        "from textblob import TextBlob\n",
        "from plotly import tools\n",
        "import plotly.graph_objs as go\n",
        "from plotly.offline import iplot\n",
        "%matplotlib inline\n",
        "\n",
        "#Ignore warnings\n",
        "import warnings\n",
        "warnings.filterwarnings('ignore')\n",
        "\n",
        "#Other miscellaneous libraries\n",
        "from scipy import interp\n",
        "from itertools import cycle\n",
        "import cufflinks as cf\n",
        "from collections import defaultdict\n",
        "from collections import Counter\n",
        "from imblearn.over_sampling import SMOTE\n",
        "from sklearn import set_config\n",
        "from sklearn.model_selection import StratifiedKFold, cross_val_score, GridSearchCV\n",
        "\n",
        "## Importing required libraries :\n",
        "import pandas as pd\n",
        "import numpy as np\n",
        "\n",
        "# for removing accented and special chracters\n",
        "import unicodedata\n",
        "\n",
        "# for stopwords Removal\n",
        "from nltk.corpus import stopwords\n",
        "from nltk.tokenize import word_tokenize\n",
        "\n",
        "# for calculating Polarity and Subjectivity\n",
        "from textblob import TextBlob\n",
        "import matplotlib.pyplot as plt\n",
        "import seaborn as sns\n",
        "# function for making ngrams\n",
        "from nltk.util import ngrams\n",
        "\n",
        "# load in all the modules we're going to need #NLTK libraries\n",
        "import nltk\n",
        "import collections\n",
        "\n",
        "# for Wordscloud\n",
        "import nltk\n",
        "import re\n",
        "import string\n",
        "from wordcloud import WordCloud,STOPWORDS\n",
        "from nltk.stem.porter import PorterStemmer\n",
        "from wordcloud import WordCloud,STOPWORDS\n",
        "from sklearn.feature_extraction.text import CountVectorizer\n",
        "from sklearn.feature_extraction.text import TfidfVectorizer\n",
        "from sklearn.preprocessing import FunctionTransformer\n",
        "\n",
        "#download vader from nltk\n",
        "nltk.download('vader_lexicon')\n",
        "from nltk.sentiment.vader import SentimentIntensityAnalyzer\n",
        "\n",
        "## for resampling\n",
        "from sklearn.utils import resample\n",
        "\n",
        "# Machine Learning libraries\n",
        "import sklearn \n",
        "from sklearn.svm import SVC\n",
        "from sklearn.svm import LinearSVC\n",
        "from sklearn.preprocessing import LabelEncoder\n",
        "from sklearn.preprocessing import StandardScaler\n",
        "from sklearn.preprocessing import MinMaxScaler\n",
        "from sklearn.ensemble import ExtraTreesClassifier\n",
        "from sklearn.pipeline import make_pipeline\n",
        "from sklearn.model_selection import GridSearchCV\n",
        "from sklearn.linear_model import LogisticRegression\n",
        "from sklearn.tree import DecisionTreeClassifier\n",
        "from sklearn.naive_bayes import MultinomialNB\n",
        "from sklearn.cluster import KMeans\n",
        "from sklearn.ensemble  import RandomForestClassifier\n",
        "from sklearn.linear_model import SGDClassifier\n",
        "from sklearn.model_selection import GridSearchCV\n",
        "from sklearn.ensemble import RandomForestClassifier\n",
        "from sklearn.naive_bayes import BernoulliNB \n",
        "from sklearn.neighbors import KNeighborsClassifier\n",
        "from sklearn.multiclass import OneVsRestClassifier\n",
        "from sklearn.svm import SVC\n",
        "from sklearn.pipeline import Pipeline\n",
        "from sklearn.model_selection import train_test_split\n",
        "from sklearn.preprocessing import label_binarize\n",
        "from sklearn import svm, datasets\n",
        "from sklearn import preprocessing \n",
        "import re\n",
        "import nltk\n",
        "from nltk.corpus import stopwords\n",
        "from nltk.stem import WordNetLemmatizer\n",
        "nltk.download('stopwords')\n",
        "nltk.download('wordnet')\n",
        "nltk.download('omw-1.4')\n",
        "\n",
        "#Metrics libraries\n",
        "from sklearn import metrics\n",
        "from sklearn.metrics import classification_report,accuracy_score,recall_score,precision_score,f1_score\n",
        "from sklearn.model_selection import cross_val_score\n",
        "from sklearn.metrics import roc_auc_score,confusion_matrix\n",
        "from sklearn.metrics import roc_curve, auc\n",
        "\n",
        "#Visualization libraries\n",
        "import matplotlib.pyplot as plt \n",
        "from matplotlib import rcParams\n",
        "import seaborn as sns\n",
        "from textblob import TextBlob\n",
        "from plotly import tools\n",
        "import plotly.graph_objs as go\n",
        "from plotly.offline import iplot\n",
        "%matplotlib inline\n",
        "\n",
        "#Ignore warnings\n",
        "import warnings\n",
        "warnings.filterwarnings('ignore')\n",
        "\n",
        "#Other miscellaneous libraries\n",
        "from scipy import interp\n",
        "from itertools import cycle\n",
        "import cufflinks as cf\n",
        "from collections import defaultdict\n",
        "from collections import Counter\n",
        "from imblearn.over_sampling import SMOTE\n",
        "from sklearn import set_config\n",
        "from sklearn.model_selection import StratifiedKFold, cross_val_score, GridSearchCV"
      ],
      "metadata": {
        "colab": {
          "base_uri": "https://localhost:8080/"
        },
        "id": "mnZgJqRxIamz",
        "outputId": "8b4d990c-99bf-4ca2-968d-5d30073702e6"
      },
      "execution_count": null,
      "outputs": [
        {
          "output_type": "stream",
          "name": "stderr",
          "text": [
            "[nltk_data] Downloading package vader_lexicon to /root/nltk_data...\n",
            "[nltk_data]   Package vader_lexicon is already up-to-date!\n",
            "[nltk_data] Downloading package vader_lexicon to /root/nltk_data...\n",
            "[nltk_data]   Package vader_lexicon is already up-to-date!\n",
            "[nltk_data] Downloading package stopwords to /root/nltk_data...\n",
            "[nltk_data]   Package stopwords is already up-to-date!\n",
            "[nltk_data] Downloading package wordnet to /root/nltk_data...\n",
            "[nltk_data]   Package wordnet is already up-to-date!\n",
            "[nltk_data] Downloading package omw-1.4 to /root/nltk_data...\n",
            "[nltk_data]   Package omw-1.4 is already up-to-date!\n"
          ]
        }
      ]
    },
    {
      "cell_type": "code",
      "source": [
        "df=pd.read_csv(\"/content/drive/MyDrive/df_processed_new.csv\")\n",
        "df.head()"
      ],
      "metadata": {
        "colab": {
          "base_uri": "https://localhost:8080/",
          "height": 716
        },
        "id": "TCIKail1prE8",
        "outputId": "9612ac2a-2830-4760-c2cf-f8b2b620ca70"
      },
      "execution_count": null,
      "outputs": [
        {
          "output_type": "execute_result",
          "data": {
            "text/plain": [
              "   Unnamed: 0  Unnamed: 0.1      reviewerID        asin  \\\n",
              "0           0             0  A2EFCYXHNK06IS  5555991584   \n",
              "1           1             1  A1WR23ER5HMAA9  5555991584   \n",
              "2           2             2  A2IR4Q0GPAFJKW  5555991584   \n",
              "3           3             3  A2V0KUVAB9HSYO  5555991584   \n",
              "4           4             4  A1J0GL9HCA7ELW  5555991584   \n",
              "\n",
              "                                       reviewerName  \\\n",
              "0  Abigail Perkins \"Abby &#34;Reads Too Much&#34...   \n",
              "1                                               AKB   \n",
              "2                                         Alexander   \n",
              "3                                      Alison Hight   \n",
              "4                           Al the Pal \"Al the Pal\"   \n",
              "\n",
              "                                          reviewText  overall  \\\n",
              "0  anthemic title track begins quotthe memory tre...      5.0   \n",
              "1  thought enya couldnt possibly get better found...      5.0   \n",
              "2  nice cd easy listening husband like quite bit ...      4.0   \n",
              "3  really liked cd especially different languages...      4.0   \n",
              "4  enyas richly chorded style smitten little bit ...      5.0   \n",
              "\n",
              "                                            summary  price brand  ...  \\\n",
              "0                     Enya Experiments And Succeeds   9.49   NaN  ...   \n",
              "1                   How to improve upon perfection.   9.49   NaN  ...   \n",
              "2                                   Good listening.   9.49   NaN  ...   \n",
              "3                                          Loved It   9.49   NaN  ...   \n",
              "4  Another Hauntingly Beautiful Collection of Songs   9.49   NaN  ...   \n",
              "\n",
              "   sentiment1  helpful_rate  polarity review_len  word_count  \\\n",
              "0    Positive           0.8  0.137327       1806         256   \n",
              "1    Positive           1.0  0.560000        306          42   \n",
              "2    Positive           0.0  0.577778         73          12   \n",
              "3    Positive           0.0  0.378571        169          25   \n",
              "4    Positive           1.0  0.322348        460          67   \n",
              "\n",
              "                                      polarity_vader  compound    pos    neg  \\\n",
              "0  {'neg': 0.079, 'neu': 0.621, 'pos': 0.301, 'co...    0.9980  0.301  0.079   \n",
              "1  {'neg': 0.104, 'neu': 0.472, 'pos': 0.425, 'co...    0.9722  0.425  0.104   \n",
              "2  {'neg': 0.0, 'neu': 0.413, 'pos': 0.587, 'comp...    0.8850  0.587  0.000   \n",
              "3  {'neg': 0.0, 'neu': 0.782, 'pos': 0.218, 'comp...    0.7501  0.218  0.000   \n",
              "4  {'neg': 0.027, 'neu': 0.683, 'pos': 0.29, 'com...    0.9693  0.290  0.027   \n",
              "\n",
              "   type  \n",
              "0   POS  \n",
              "1   POS  \n",
              "2   POS  \n",
              "3   POS  \n",
              "4   POS  \n",
              "\n",
              "[5 rows x 25 columns]"
            ],
            "text/html": [
              "\n",
              "  <div id=\"df-cab25964-b652-46bd-ac03-350f0b401ff1\">\n",
              "    <div class=\"colab-df-container\">\n",
              "      <div>\n",
              "<style scoped>\n",
              "    .dataframe tbody tr th:only-of-type {\n",
              "        vertical-align: middle;\n",
              "    }\n",
              "\n",
              "    .dataframe tbody tr th {\n",
              "        vertical-align: top;\n",
              "    }\n",
              "\n",
              "    .dataframe thead th {\n",
              "        text-align: right;\n",
              "    }\n",
              "</style>\n",
              "<table border=\"1\" class=\"dataframe\">\n",
              "  <thead>\n",
              "    <tr style=\"text-align: right;\">\n",
              "      <th></th>\n",
              "      <th>Unnamed: 0</th>\n",
              "      <th>Unnamed: 0.1</th>\n",
              "      <th>reviewerID</th>\n",
              "      <th>asin</th>\n",
              "      <th>reviewerName</th>\n",
              "      <th>reviewText</th>\n",
              "      <th>overall</th>\n",
              "      <th>summary</th>\n",
              "      <th>price</th>\n",
              "      <th>brand</th>\n",
              "      <th>...</th>\n",
              "      <th>sentiment1</th>\n",
              "      <th>helpful_rate</th>\n",
              "      <th>polarity</th>\n",
              "      <th>review_len</th>\n",
              "      <th>word_count</th>\n",
              "      <th>polarity_vader</th>\n",
              "      <th>compound</th>\n",
              "      <th>pos</th>\n",
              "      <th>neg</th>\n",
              "      <th>type</th>\n",
              "    </tr>\n",
              "  </thead>\n",
              "  <tbody>\n",
              "    <tr>\n",
              "      <th>0</th>\n",
              "      <td>0</td>\n",
              "      <td>0</td>\n",
              "      <td>A2EFCYXHNK06IS</td>\n",
              "      <td>5555991584</td>\n",
              "      <td>Abigail Perkins \"Abby &amp;#34;Reads Too Much&amp;#34...</td>\n",
              "      <td>anthemic title track begins quotthe memory tre...</td>\n",
              "      <td>5.0</td>\n",
              "      <td>Enya Experiments And Succeeds</td>\n",
              "      <td>9.49</td>\n",
              "      <td>NaN</td>\n",
              "      <td>...</td>\n",
              "      <td>Positive</td>\n",
              "      <td>0.8</td>\n",
              "      <td>0.137327</td>\n",
              "      <td>1806</td>\n",
              "      <td>256</td>\n",
              "      <td>{'neg': 0.079, 'neu': 0.621, 'pos': 0.301, 'co...</td>\n",
              "      <td>0.9980</td>\n",
              "      <td>0.301</td>\n",
              "      <td>0.079</td>\n",
              "      <td>POS</td>\n",
              "    </tr>\n",
              "    <tr>\n",
              "      <th>1</th>\n",
              "      <td>1</td>\n",
              "      <td>1</td>\n",
              "      <td>A1WR23ER5HMAA9</td>\n",
              "      <td>5555991584</td>\n",
              "      <td>AKB</td>\n",
              "      <td>thought enya couldnt possibly get better found...</td>\n",
              "      <td>5.0</td>\n",
              "      <td>How to improve upon perfection.</td>\n",
              "      <td>9.49</td>\n",
              "      <td>NaN</td>\n",
              "      <td>...</td>\n",
              "      <td>Positive</td>\n",
              "      <td>1.0</td>\n",
              "      <td>0.560000</td>\n",
              "      <td>306</td>\n",
              "      <td>42</td>\n",
              "      <td>{'neg': 0.104, 'neu': 0.472, 'pos': 0.425, 'co...</td>\n",
              "      <td>0.9722</td>\n",
              "      <td>0.425</td>\n",
              "      <td>0.104</td>\n",
              "      <td>POS</td>\n",
              "    </tr>\n",
              "    <tr>\n",
              "      <th>2</th>\n",
              "      <td>2</td>\n",
              "      <td>2</td>\n",
              "      <td>A2IR4Q0GPAFJKW</td>\n",
              "      <td>5555991584</td>\n",
              "      <td>Alexander</td>\n",
              "      <td>nice cd easy listening husband like quite bit ...</td>\n",
              "      <td>4.0</td>\n",
              "      <td>Good listening.</td>\n",
              "      <td>9.49</td>\n",
              "      <td>NaN</td>\n",
              "      <td>...</td>\n",
              "      <td>Positive</td>\n",
              "      <td>0.0</td>\n",
              "      <td>0.577778</td>\n",
              "      <td>73</td>\n",
              "      <td>12</td>\n",
              "      <td>{'neg': 0.0, 'neu': 0.413, 'pos': 0.587, 'comp...</td>\n",
              "      <td>0.8850</td>\n",
              "      <td>0.587</td>\n",
              "      <td>0.000</td>\n",
              "      <td>POS</td>\n",
              "    </tr>\n",
              "    <tr>\n",
              "      <th>3</th>\n",
              "      <td>3</td>\n",
              "      <td>3</td>\n",
              "      <td>A2V0KUVAB9HSYO</td>\n",
              "      <td>5555991584</td>\n",
              "      <td>Alison Hight</td>\n",
              "      <td>really liked cd especially different languages...</td>\n",
              "      <td>4.0</td>\n",
              "      <td>Loved It</td>\n",
              "      <td>9.49</td>\n",
              "      <td>NaN</td>\n",
              "      <td>...</td>\n",
              "      <td>Positive</td>\n",
              "      <td>0.0</td>\n",
              "      <td>0.378571</td>\n",
              "      <td>169</td>\n",
              "      <td>25</td>\n",
              "      <td>{'neg': 0.0, 'neu': 0.782, 'pos': 0.218, 'comp...</td>\n",
              "      <td>0.7501</td>\n",
              "      <td>0.218</td>\n",
              "      <td>0.000</td>\n",
              "      <td>POS</td>\n",
              "    </tr>\n",
              "    <tr>\n",
              "      <th>4</th>\n",
              "      <td>4</td>\n",
              "      <td>4</td>\n",
              "      <td>A1J0GL9HCA7ELW</td>\n",
              "      <td>5555991584</td>\n",
              "      <td>Al the Pal \"Al the Pal\"</td>\n",
              "      <td>enyas richly chorded style smitten little bit ...</td>\n",
              "      <td>5.0</td>\n",
              "      <td>Another Hauntingly Beautiful Collection of Songs</td>\n",
              "      <td>9.49</td>\n",
              "      <td>NaN</td>\n",
              "      <td>...</td>\n",
              "      <td>Positive</td>\n",
              "      <td>1.0</td>\n",
              "      <td>0.322348</td>\n",
              "      <td>460</td>\n",
              "      <td>67</td>\n",
              "      <td>{'neg': 0.027, 'neu': 0.683, 'pos': 0.29, 'com...</td>\n",
              "      <td>0.9693</td>\n",
              "      <td>0.290</td>\n",
              "      <td>0.027</td>\n",
              "      <td>POS</td>\n",
              "    </tr>\n",
              "  </tbody>\n",
              "</table>\n",
              "<p>5 rows × 25 columns</p>\n",
              "</div>\n",
              "      <button class=\"colab-df-convert\" onclick=\"convertToInteractive('df-cab25964-b652-46bd-ac03-350f0b401ff1')\"\n",
              "              title=\"Convert this dataframe to an interactive table.\"\n",
              "              style=\"display:none;\">\n",
              "        \n",
              "  <svg xmlns=\"http://www.w3.org/2000/svg\" height=\"24px\"viewBox=\"0 0 24 24\"\n",
              "       width=\"24px\">\n",
              "    <path d=\"M0 0h24v24H0V0z\" fill=\"none\"/>\n",
              "    <path d=\"M18.56 5.44l.94 2.06.94-2.06 2.06-.94-2.06-.94-.94-2.06-.94 2.06-2.06.94zm-11 1L8.5 8.5l.94-2.06 2.06-.94-2.06-.94L8.5 2.5l-.94 2.06-2.06.94zm10 10l.94 2.06.94-2.06 2.06-.94-2.06-.94-.94-2.06-.94 2.06-2.06.94z\"/><path d=\"M17.41 7.96l-1.37-1.37c-.4-.4-.92-.59-1.43-.59-.52 0-1.04.2-1.43.59L10.3 9.45l-7.72 7.72c-.78.78-.78 2.05 0 2.83L4 21.41c.39.39.9.59 1.41.59.51 0 1.02-.2 1.41-.59l7.78-7.78 2.81-2.81c.8-.78.8-2.07 0-2.86zM5.41 20L4 18.59l7.72-7.72 1.47 1.35L5.41 20z\"/>\n",
              "  </svg>\n",
              "      </button>\n",
              "      \n",
              "  <style>\n",
              "    .colab-df-container {\n",
              "      display:flex;\n",
              "      flex-wrap:wrap;\n",
              "      gap: 12px;\n",
              "    }\n",
              "\n",
              "    .colab-df-convert {\n",
              "      background-color: #E8F0FE;\n",
              "      border: none;\n",
              "      border-radius: 50%;\n",
              "      cursor: pointer;\n",
              "      display: none;\n",
              "      fill: #1967D2;\n",
              "      height: 32px;\n",
              "      padding: 0 0 0 0;\n",
              "      width: 32px;\n",
              "    }\n",
              "\n",
              "    .colab-df-convert:hover {\n",
              "      background-color: #E2EBFA;\n",
              "      box-shadow: 0px 1px 2px rgba(60, 64, 67, 0.3), 0px 1px 3px 1px rgba(60, 64, 67, 0.15);\n",
              "      fill: #174EA6;\n",
              "    }\n",
              "\n",
              "    [theme=dark] .colab-df-convert {\n",
              "      background-color: #3B4455;\n",
              "      fill: #D2E3FC;\n",
              "    }\n",
              "\n",
              "    [theme=dark] .colab-df-convert:hover {\n",
              "      background-color: #434B5C;\n",
              "      box-shadow: 0px 1px 3px 1px rgba(0, 0, 0, 0.15);\n",
              "      filter: drop-shadow(0px 1px 2px rgba(0, 0, 0, 0.3));\n",
              "      fill: #FFFFFF;\n",
              "    }\n",
              "  </style>\n",
              "\n",
              "      <script>\n",
              "        const buttonEl =\n",
              "          document.querySelector('#df-cab25964-b652-46bd-ac03-350f0b401ff1 button.colab-df-convert');\n",
              "        buttonEl.style.display =\n",
              "          google.colab.kernel.accessAllowed ? 'block' : 'none';\n",
              "\n",
              "        async function convertToInteractive(key) {\n",
              "          const element = document.querySelector('#df-cab25964-b652-46bd-ac03-350f0b401ff1');\n",
              "          const dataTable =\n",
              "            await google.colab.kernel.invokeFunction('convertToInteractive',\n",
              "                                                     [key], {});\n",
              "          if (!dataTable) return;\n",
              "\n",
              "          const docLinkHtml = 'Like what you see? Visit the ' +\n",
              "            '<a target=\"_blank\" href=https://colab.research.google.com/notebooks/data_table.ipynb>data table notebook</a>'\n",
              "            + ' to learn more about interactive tables.';\n",
              "          element.innerHTML = '';\n",
              "          dataTable['output_type'] = 'display_data';\n",
              "          await google.colab.output.renderOutput(dataTable, element);\n",
              "          const docLink = document.createElement('div');\n",
              "          docLink.innerHTML = docLinkHtml;\n",
              "          element.appendChild(docLink);\n",
              "        }\n",
              "      </script>\n",
              "    </div>\n",
              "  </div>\n",
              "  "
            ]
          },
          "metadata": {},
          "execution_count": 3
        }
      ]
    },
    {
      "cell_type": "code",
      "execution_count": null,
      "metadata": {
        "id": "XHe6IYTk6T4m"
      },
      "outputs": [],
      "source": [
        "df.dropna(subset = ['reviewText'],inplace=True)"
      ]
    },
    {
      "cell_type": "code",
      "execution_count": null,
      "metadata": {
        "colab": {
          "base_uri": "https://localhost:8080/"
        },
        "id": "uZkaKfu46rcH",
        "outputId": "1848281d-e643-4cb9-d778-1a01262e0117"
      },
      "outputs": [
        {
          "output_type": "execute_result",
          "data": {
            "text/plain": [
              "0"
            ]
          },
          "metadata": {},
          "execution_count": 5
        }
      ],
      "source": [
        "df[\"reviewText\"].isnull().sum()"
      ]
    },
    {
      "cell_type": "code",
      "source": [
        "## here also i should write a code for resampling as there is a high class imbalance in the dataset."
      ],
      "metadata": {
        "id": "BIVU7frbvWcN"
      },
      "execution_count": null,
      "outputs": []
    },
    {
      "cell_type": "code",
      "source": [
        "music_pos = df[df['type']=='POS']\n",
        "music_neu = df[df['type']=='NEUTRAL']\n",
        "music_neg = df[df['type']=='NEG']\n",
        " \n",
        "df_music_pos = resample(music_pos, replace=False, n_samples=70000)\n",
        "\n",
        "df_music_neu = resample(music_neu, replace=True,n_samples=70000)\n",
        "\n",
        "df_music_neg = resample(music_neg,replace=True, n_samples=70000)\n",
        "\n",
        "# Combine minority class with downsampled majority class\n",
        "music_df = pd.concat([df_music_pos, df_music_neu,df_music_neg])"
      ],
      "metadata": {
        "id": "BTjTJ5DgIWFb"
      },
      "execution_count": null,
      "outputs": []
    },
    {
      "cell_type": "code",
      "execution_count": null,
      "metadata": {
        "id": "Ivila0aWdewa"
      },
      "outputs": [],
      "source": [
        "v = TfidfVectorizer(max_features=2500,decode_error='replace', encoding='utf-8')      #max_features=2500,\n",
        "X = v.fit_transform(music_df['reviewText'].apply(lambda x: np.str_(x))) #x = v.fit_transform(df['Review'].values.astype('U'))"
      ]
    },
    {
      "cell_type": "code",
      "execution_count": null,
      "metadata": {
        "id": "6zESmOUSL2pN"
      },
      "outputs": [],
      "source": [
        "#X = cv.fit_transform(df['reviewText'].head(300000)).toarray()"
      ]
    },
    {
      "cell_type": "code",
      "execution_count": null,
      "metadata": {
        "id": "MNdwCKoy4NJh"
      },
      "outputs": [],
      "source": [
        "from sklearn.model_selection import train_test_split\n",
        "X_train, X_test, y_train, y_test = train_test_split(X, music_df['type'],\n",
        "                                                    test_size=0.3,\n",
        "                                                    stratify=music_df['type'],\n",
        "                                                    random_state = 42)"
      ]
    },
    {
      "cell_type": "code",
      "source": [
        "X_train.shape[0]"
      ],
      "metadata": {
        "colab": {
          "base_uri": "https://localhost:8080/"
        },
        "id": "NjfmxEwdX1vz",
        "outputId": "d0150862-4aa7-4780-a8bc-6c98b95694bc"
      },
      "execution_count": null,
      "outputs": [
        {
          "output_type": "execute_result",
          "data": {
            "text/plain": [
              "147000"
            ]
          },
          "metadata": {},
          "execution_count": 11
        }
      ]
    },
    {
      "cell_type": "code",
      "source": [
        "X_test.shape[0]"
      ],
      "metadata": {
        "colab": {
          "base_uri": "https://localhost:8080/"
        },
        "id": "JMl_5zi3ZJ0I",
        "outputId": "d3ffe0d9-fca3-4461-cb5e-c14427c1f889"
      },
      "execution_count": null,
      "outputs": [
        {
          "output_type": "execute_result",
          "data": {
            "text/plain": [
              "63000"
            ]
          },
          "metadata": {},
          "execution_count": 12
        }
      ]
    },
    {
      "cell_type": "code",
      "execution_count": null,
      "metadata": {
        "id": "nCgIzfve9nUX"
      },
      "outputs": [],
      "source": [
        "## 1).classification model : -"
      ]
    },
    {
      "cell_type": "code",
      "execution_count": null,
      "metadata": {
        "id": "zQkXmpDr9xFG"
      },
      "outputs": [],
      "source": [
        "#a).logistic regression"
      ]
    },
    {
      "cell_type": "code",
      "source": [
        "## LIBRARY AND MODEL DATA FITTING AND IMPORTING (2 LINES FOR IT)\n",
        "from sklearn.tree import DecisionTreeClassifier \n",
        "model = LogisticRegression().fit(X_train,y_train)"
      ],
      "metadata": {
        "id": "UJdj_dJefYU9"
      },
      "execution_count": null,
      "outputs": []
    },
    {
      "cell_type": "code",
      "source": [
        "pred = model.predict(X_test)\n",
        "# New Model Evaluation metrics \n",
        "print('Accuracy Score : ' + str(accuracy_score(y_test,pred)))\n",
        "print('Precision Score : ' + str(precision_score(y_test,pred,average=\"weighted\")))\n",
        "print('Recall Score : ' + str(recall_score(y_test,pred,average=\"weighted\")))\n",
        "print('F1 Score : ' + str(f1_score(y_test,pred,average=\"weighted\")))"
      ],
      "metadata": {
        "colab": {
          "base_uri": "https://localhost:8080/"
        },
        "id": "iwFon6eMceCk",
        "outputId": "42846da6-c7ee-4baf-b372-77020d505aeb"
      },
      "execution_count": null,
      "outputs": [
        {
          "output_type": "stream",
          "name": "stdout",
          "text": [
            "Accuracy Score : 0.8565555555555555\n",
            "Precision Score : 0.8550871381587573\n",
            "Recall Score : 0.8565555555555555\n",
            "F1 Score : 0.8551007598376741\n"
          ]
        }
      ]
    },
    {
      "cell_type": "code",
      "source": [
        "print(classification_report(y_test,pred))"
      ],
      "metadata": {
        "colab": {
          "base_uri": "https://localhost:8080/"
        },
        "id": "5-GypQtnT_Dd",
        "outputId": "dd5a1060-13a6-416e-b699-e10cfa323310"
      },
      "execution_count": null,
      "outputs": [
        {
          "output_type": "stream",
          "name": "stdout",
          "text": [
            "              precision    recall  f1-score   support\n",
            "\n",
            "         NEG       0.82      0.78      0.80     21000\n",
            "     NEUTRAL       0.89      0.96      0.92     21000\n",
            "         POS       0.86      0.83      0.84     21000\n",
            "\n",
            "    accuracy                           0.86     63000\n",
            "   macro avg       0.86      0.86      0.86     63000\n",
            "weighted avg       0.86      0.86      0.86     63000\n",
            "\n"
          ]
        }
      ]
    },
    {
      "cell_type": "code",
      "execution_count": null,
      "metadata": {
        "id": "QgQTx9Qb4NVo",
        "colab": {
          "base_uri": "https://localhost:8080/",
          "height": 281
        },
        "outputId": "bd1d44f7-0a2a-4846-ccd1-7c871e9d197e"
      },
      "outputs": [
        {
          "output_type": "display_data",
          "data": {
            "text/plain": [
              "<Figure size 432x288 with 2 Axes>"
            ],
            "image/png": "[encoded data removed]"
          },
          "metadata": {
            "needs_background": "light"
          }
        }
      ],
      "source": [
        "cm = confusion_matrix(y_test,pred)\n",
        "cm_display = metrics.ConfusionMatrixDisplay(confusion_matrix = cm, display_labels = [0,1, \"pos\"])\n",
        "cm_display.plot()\n",
        "plt.show()"
      ]
    },
    {
      "cell_type": "code",
      "source": [
        "###########################################################################################################################################################"
      ],
      "metadata": {
        "id": "CFW1z2a5kmLa"
      },
      "execution_count": null,
      "outputs": []
    },
    {
      "cell_type": "code",
      "source": [
        "#########################################################################################################################################################"
      ],
      "metadata": {
        "id": "YIf38esdkqe7"
      },
      "execution_count": null,
      "outputs": []
    },
    {
      "cell_type": "code",
      "execution_count": null,
      "metadata": {
        "id": "xvYQ60aA4NZX",
        "colab": {
          "base_uri": "https://localhost:8080/"
        },
        "outputId": "84fe7314-a028-4d1c-e50c-68b0bfba5dd8"
      },
      "outputs": [
        {
          "output_type": "execute_result",
          "data": {
            "text/plain": [
              "POS        70000\n",
              "NEUTRAL    70000\n",
              "NEG        70000\n",
              "Name: type, dtype: int64"
            ]
          },
          "metadata": {},
          "execution_count": 34
        }
      ],
      "source": [
        "music_df.type.value_counts()         ## this is based on vader polarity"
      ]
    },
    {
      "cell_type": "markdown",
      "source": [
        "## pipeline"
      ],
      "metadata": {
        "id": "mAokAZkppJaf"
      }
    },
    {
      "cell_type": "code",
      "source": [
        "df.dropna(subset = ['reviewText'],inplace=True)"
      ],
      "metadata": {
        "id": "9y6aQkgn7dMT"
      },
      "execution_count": null,
      "outputs": []
    },
    {
      "cell_type": "code",
      "source": [
        "## here i shopuld wrute a code for resampling\n",
        "from sklearn.utils import resample"
      ],
      "metadata": {
        "id": "MeJIRTKovOjN"
      },
      "execution_count": null,
      "outputs": []
    },
    {
      "cell_type": "code",
      "source": [
        "music_pos = df[df['type']=='POS']\n",
        "music_neu = df[df['type']=='NEUTRAL']\n",
        "music_neg = df[df['type']=='NEG']\n",
        " \n",
        "df_music_pos = resample(music_pos, replace=False,n_samples=70000)\n",
        "\n",
        "df_music_neu = resample(music_neu,  replace=True,n_samples=70000)\n",
        "\n",
        "df_music_neg = resample(music_neg, replace=True, n_samples=70000)\n",
        "\n",
        "# Combine minority class with downsampled majority class\n",
        "music_df = pd.concat([df_music_pos, df_music_neu,df_music_neg])"
      ],
      "metadata": {
        "id": "99xNsr9a5Xh-"
      },
      "execution_count": null,
      "outputs": []
    },
    {
      "cell_type": "code",
      "source": [
        "music_df.head(3)"
      ],
      "metadata": {
        "colab": {
          "base_uri": "https://localhost:8080/",
          "height": 515
        },
        "id": "grDqry3z6xlC",
        "outputId": "37491194-8fdf-42a0-efc5-e0b11cc88cfd"
      },
      "execution_count": null,
      "outputs": [
        {
          "output_type": "execute_result",
          "data": {
            "text/plain": [
              "        Unnamed: 0  Unnamed: 0.1      reviewerID        asin  reviewerName  \\\n",
              "152423      152423        152423  A2LFLKFE3B0PSA  B000066C1W   jono \"jono\"   \n",
              "74086        74086         74086  A3UGD3PSYW2V6Y  B000002W93          MATT   \n",
              "417315      417315        417315   AGZ9AO1X0BSHY  B001NZP4R0  Tammie Arias   \n",
              "\n",
              "                                               reviewText  overall  \\\n",
              "152423  another great rocafella records album best son...      4.0   \n",
              "74086   one favorite bands actually say artists talent...      5.0   \n",
              "417315  one alltime favorite songs anyone loves bryan ...      5.0   \n",
              "\n",
              "                                          summary  price               brand  \\\n",
              "152423                               A GOOD ALBUM   8.39  Virgin Emi Records   \n",
              "74086   one of the greatest 80's bands ever !!!!!   6.59                 NaN   \n",
              "417315        Classic Bryan Adams!  Awesome song!   1.29                 NaN   \n",
              "\n",
              "        ...  sentiment1  helpful_rate  polarity review_len  word_count  \\\n",
              "152423  ...    Positive           1.0  0.387576        321          57   \n",
              "74086   ...    Positive           1.0  0.245833        284          41   \n",
              "417315  ...    Positive           0.0  0.366667        103          17   \n",
              "\n",
              "                                           polarity_vader  compound    pos  \\\n",
              "152423  {'neg': 0.125, 'neu': 0.671, 'pos': 0.204, 'co...    0.8554  0.204   \n",
              "74086   {'neg': 0.056, 'neu': 0.674, 'pos': 0.27, 'com...    0.8772  0.270   \n",
              "417315  {'neg': 0.135, 'neu': 0.532, 'pos': 0.333, 'co...    0.5927  0.333   \n",
              "\n",
              "          neg  type  \n",
              "152423  0.125   POS  \n",
              "74086   0.056   POS  \n",
              "417315  0.135   POS  \n",
              "\n",
              "[3 rows x 25 columns]"
            ],
            "text/html": [
              "\n",
              "  <div id=\"df-a3263199-d86f-4700-85bd-f780fa3672a4\">\n",
              "    <div class=\"colab-df-container\">\n",
              "      <div>\n",
              "<style scoped>\n",
              "    .dataframe tbody tr th:only-of-type {\n",
              "        vertical-align: middle;\n",
              "    }\n",
              "\n",
              "    .dataframe tbody tr th {\n",
              "        vertical-align: top;\n",
              "    }\n",
              "\n",
              "    .dataframe thead th {\n",
              "        text-align: right;\n",
              "    }\n",
              "</style>\n",
              "<table border=\"1\" class=\"dataframe\">\n",
              "  <thead>\n",
              "    <tr style=\"text-align: right;\">\n",
              "      <th></th>\n",
              "      <th>Unnamed: 0</th>\n",
              "      <th>Unnamed: 0.1</th>\n",
              "      <th>reviewerID</th>\n",
              "      <th>asin</th>\n",
              "      <th>reviewerName</th>\n",
              "      <th>reviewText</th>\n",
              "      <th>overall</th>\n",
              "      <th>summary</th>\n",
              "      <th>price</th>\n",
              "      <th>brand</th>\n",
              "      <th>...</th>\n",
              "      <th>sentiment1</th>\n",
              "      <th>helpful_rate</th>\n",
              "      <th>polarity</th>\n",
              "      <th>review_len</th>\n",
              "      <th>word_count</th>\n",
              "      <th>polarity_vader</th>\n",
              "      <th>compound</th>\n",
              "      <th>pos</th>\n",
              "      <th>neg</th>\n",
              "      <th>type</th>\n",
              "    </tr>\n",
              "  </thead>\n",
              "  <tbody>\n",
              "    <tr>\n",
              "      <th>152423</th>\n",
              "      <td>152423</td>\n",
              "      <td>152423</td>\n",
              "      <td>A2LFLKFE3B0PSA</td>\n",
              "      <td>B000066C1W</td>\n",
              "      <td>jono \"jono\"</td>\n",
              "      <td>another great rocafella records album best son...</td>\n",
              "      <td>4.0</td>\n",
              "      <td>A GOOD ALBUM</td>\n",
              "      <td>8.39</td>\n",
              "      <td>Virgin Emi Records</td>\n",
              "      <td>...</td>\n",
              "      <td>Positive</td>\n",
              "      <td>1.0</td>\n",
              "      <td>0.387576</td>\n",
              "      <td>321</td>\n",
              "      <td>57</td>\n",
              "      <td>{'neg': 0.125, 'neu': 0.671, 'pos': 0.204, 'co...</td>\n",
              "      <td>0.8554</td>\n",
              "      <td>0.204</td>\n",
              "      <td>0.125</td>\n",
              "      <td>POS</td>\n",
              "    </tr>\n",
              "    <tr>\n",
              "      <th>74086</th>\n",
              "      <td>74086</td>\n",
              "      <td>74086</td>\n",
              "      <td>A3UGD3PSYW2V6Y</td>\n",
              "      <td>B000002W93</td>\n",
              "      <td>MATT</td>\n",
              "      <td>one favorite bands actually say artists talent...</td>\n",
              "      <td>5.0</td>\n",
              "      <td>one of the greatest 80's bands ever !!!!!</td>\n",
              "      <td>6.59</td>\n",
              "      <td>NaN</td>\n",
              "      <td>...</td>\n",
              "      <td>Positive</td>\n",
              "      <td>1.0</td>\n",
              "      <td>0.245833</td>\n",
              "      <td>284</td>\n",
              "      <td>41</td>\n",
              "      <td>{'neg': 0.056, 'neu': 0.674, 'pos': 0.27, 'com...</td>\n",
              "      <td>0.8772</td>\n",
              "      <td>0.270</td>\n",
              "      <td>0.056</td>\n",
              "      <td>POS</td>\n",
              "    </tr>\n",
              "    <tr>\n",
              "      <th>417315</th>\n",
              "      <td>417315</td>\n",
              "      <td>417315</td>\n",
              "      <td>AGZ9AO1X0BSHY</td>\n",
              "      <td>B001NZP4R0</td>\n",
              "      <td>Tammie Arias</td>\n",
              "      <td>one alltime favorite songs anyone loves bryan ...</td>\n",
              "      <td>5.0</td>\n",
              "      <td>Classic Bryan Adams!  Awesome song!</td>\n",
              "      <td>1.29</td>\n",
              "      <td>NaN</td>\n",
              "      <td>...</td>\n",
              "      <td>Positive</td>\n",
              "      <td>0.0</td>\n",
              "      <td>0.366667</td>\n",
              "      <td>103</td>\n",
              "      <td>17</td>\n",
              "      <td>{'neg': 0.135, 'neu': 0.532, 'pos': 0.333, 'co...</td>\n",
              "      <td>0.5927</td>\n",
              "      <td>0.333</td>\n",
              "      <td>0.135</td>\n",
              "      <td>POS</td>\n",
              "    </tr>\n",
              "  </tbody>\n",
              "</table>\n",
              "<p>3 rows × 25 columns</p>\n",
              "</div>\n",
              "      <button class=\"colab-df-convert\" onclick=\"convertToInteractive('df-a3263199-d86f-4700-85bd-f780fa3672a4')\"\n",
              "              title=\"Convert this dataframe to an interactive table.\"\n",
              "              style=\"display:none;\">\n",
              "        \n",
              "  <svg xmlns=\"http://www.w3.org/2000/svg\" height=\"24px\"viewBox=\"0 0 24 24\"\n",
              "       width=\"24px\">\n",
              "    <path d=\"M0 0h24v24H0V0z\" fill=\"none\"/>\n",
              "    <path d=\"M18.56 5.44l.94 2.06.94-2.06 2.06-.94-2.06-.94-.94-2.06-.94 2.06-2.06.94zm-11 1L8.5 8.5l.94-2.06 2.06-.94-2.06-.94L8.5 2.5l-.94 2.06-2.06.94zm10 10l.94 2.06.94-2.06 2.06-.94-2.06-.94-.94-2.06-.94 2.06-2.06.94z\"/><path d=\"M17.41 7.96l-1.37-1.37c-.4-.4-.92-.59-1.43-.59-.52 0-1.04.2-1.43.59L10.3 9.45l-7.72 7.72c-.78.78-.78 2.05 0 2.83L4 21.41c.39.39.9.59 1.41.59.51 0 1.02-.2 1.41-.59l7.78-7.78 2.81-2.81c.8-.78.8-2.07 0-2.86zM5.41 20L4 18.59l7.72-7.72 1.47 1.35L5.41 20z\"/>\n",
              "  </svg>\n",
              "      </button>\n",
              "      \n",
              "  <style>\n",
              "    .colab-df-container {\n",
              "      display:flex;\n",
              "      flex-wrap:wrap;\n",
              "      gap: 12px;\n",
              "    }\n",
              "\n",
              "    .colab-df-convert {\n",
              "      background-color: #E8F0FE;\n",
              "      border: none;\n",
              "      border-radius: 50%;\n",
              "      cursor: pointer;\n",
              "      display: none;\n",
              "      fill: #1967D2;\n",
              "      height: 32px;\n",
              "      padding: 0 0 0 0;\n",
              "      width: 32px;\n",
              "    }\n",
              "\n",
              "    .colab-df-convert:hover {\n",
              "      background-color: #E2EBFA;\n",
              "      box-shadow: 0px 1px 2px rgba(60, 64, 67, 0.3), 0px 1px 3px 1px rgba(60, 64, 67, 0.15);\n",
              "      fill: #174EA6;\n",
              "    }\n",
              "\n",
              "    [theme=dark] .colab-df-convert {\n",
              "      background-color: #3B4455;\n",
              "      fill: #D2E3FC;\n",
              "    }\n",
              "\n",
              "    [theme=dark] .colab-df-convert:hover {\n",
              "      background-color: #434B5C;\n",
              "      box-shadow: 0px 1px 3px 1px rgba(0, 0, 0, 0.15);\n",
              "      filter: drop-shadow(0px 1px 2px rgba(0, 0, 0, 0.3));\n",
              "      fill: #FFFFFF;\n",
              "    }\n",
              "  </style>\n",
              "\n",
              "      <script>\n",
              "        const buttonEl =\n",
              "          document.querySelector('#df-a3263199-d86f-4700-85bd-f780fa3672a4 button.colab-df-convert');\n",
              "        buttonEl.style.display =\n",
              "          google.colab.kernel.accessAllowed ? 'block' : 'none';\n",
              "\n",
              "        async function convertToInteractive(key) {\n",
              "          const element = document.querySelector('#df-a3263199-d86f-4700-85bd-f780fa3672a4');\n",
              "          const dataTable =\n",
              "            await google.colab.kernel.invokeFunction('convertToInteractive',\n",
              "                                                     [key], {});\n",
              "          if (!dataTable) return;\n",
              "\n",
              "          const docLinkHtml = 'Like what you see? Visit the ' +\n",
              "            '<a target=\"_blank\" href=https://colab.research.google.com/notebooks/data_table.ipynb>data table notebook</a>'\n",
              "            + ' to learn more about interactive tables.';\n",
              "          element.innerHTML = '';\n",
              "          dataTable['output_type'] = 'display_data';\n",
              "          await google.colab.output.renderOutput(dataTable, element);\n",
              "          const docLink = document.createElement('div');\n",
              "          docLink.innerHTML = docLinkHtml;\n",
              "          element.appendChild(docLink);\n",
              "        }\n",
              "      </script>\n",
              "    </div>\n",
              "  </div>\n",
              "  "
            ]
          },
          "metadata": {},
          "execution_count": 48
        }
      ]
    },
    {
      "cell_type": "code",
      "source": [
        "len(music_df)"
      ],
      "metadata": {
        "colab": {
          "base_uri": "https://localhost:8080/"
        },
        "id": "o65k8nqH8J2l",
        "outputId": "bf25ce4a-ae8e-4f25-eff4-df162fd5887a"
      },
      "execution_count": null,
      "outputs": [
        {
          "output_type": "execute_result",
          "data": {
            "text/plain": [
              "210000"
            ]
          },
          "metadata": {},
          "execution_count": 49
        }
      ]
    },
    {
      "cell_type": "code",
      "source": [
        "music_df.type.value_counts()    ## now class imbalance is not present here in this dataset."
      ],
      "metadata": {
        "colab": {
          "base_uri": "https://localhost:8080/"
        },
        "id": "NoWfXSLfHcc1",
        "outputId": "dfaba160-757c-45a6-9bdc-c2343d02bc80"
      },
      "execution_count": null,
      "outputs": [
        {
          "output_type": "execute_result",
          "data": {
            "text/plain": [
              "POS        70000\n",
              "NEUTRAL    70000\n",
              "NEG        70000\n",
              "Name: type, dtype: int64"
            ]
          },
          "metadata": {},
          "execution_count": 50
        }
      ]
    },
    {
      "cell_type": "code",
      "source": [
        "X = music_df[\"reviewText\"]\n",
        "y = music_df[\"type\"]"
      ],
      "metadata": {
        "id": "XZFCx5uQ6joO"
      },
      "execution_count": null,
      "outputs": []
    },
    {
      "cell_type": "code",
      "source": [
        "X_train, X_test, y_train, y_test = train_test_split(X,y,test_size = 0.2,random_state = 42)"
      ],
      "metadata": {
        "id": "tfwCMMgP6k68"
      },
      "execution_count": null,
      "outputs": []
    },
    {
      "cell_type": "code",
      "source": [
        "f1_list = []\n",
        "recall_list = []\n",
        "precision_list = []\n",
        "train_accuracy_list = []\n",
        "test_accuracy_list = []\n",
        "\n",
        "def f1_score1(precision,recall):\n",
        "  f1 = 2*(precision * recall)/(precision + recall)\n",
        "  return f1\n",
        "     "
      ],
      "metadata": {
        "id": "EMJbp7KPosI_"
      },
      "execution_count": null,
      "outputs": []
    },
    {
      "cell_type": "code",
      "source": [
        "def evaluation(pipeline):\n",
        "  pipeline = pipeline.fit(X_train, y_train)\n",
        "  global accuracy_train, accuracy_test, precision1, recall1, f1_score, y_pred_test, y_pred_train\n",
        "  \n",
        "  y_pred_train = pipeline.predict(X_train)\n",
        "  y_pred_test = pipeline.predict(X_test)\n",
        "\n",
        "  accuracy_train=accuracy_score(y_train, y_pred_train)\n",
        "  accuracy_test=accuracy_score(y_test, y_pred_test)\n",
        "  precision1 = precision_score(y_test, y_pred_test,average=\"weighted\")\n",
        "  recall1 = recall_score(y_test, y_pred_test,average=\"weighted\")\n",
        "  f1_score2 = f1_score1(precision1, recall1)\n",
        "\n",
        "  print('Accuracy on train %f' %accuracy_train)\n",
        "  print('Accuracy on test %f' %accuracy_test)\n",
        "  print(\"F1 Score\", f1_score2)\n",
        "  print(\"Precision Score\", precision1)\n",
        "  print(\"Recall Score\", recall1)\n",
        "\n",
        "  f1_list.append(f1_score2)\n",
        "  precision_list.append(precision1)\n",
        "  recall_list.append(recall1)\n",
        "  train_accuracy_list.append(accuracy_train)\n",
        "  test_accuracy_list.append(accuracy_test)"
      ],
      "metadata": {
        "id": "39RrV8rKosLz"
      },
      "execution_count": null,
      "outputs": []
    },
    {
      "cell_type": "code",
      "source": [
        "## 1).Check performance using logistic regression model :"
      ],
      "metadata": {
        "id": "CzmsLHlBuOCL"
      },
      "execution_count": null,
      "outputs": []
    },
    {
      "cell_type": "code",
      "source": [
        "def preprocess_text(text):                                  ### how to use it correctly check it once \n",
        "    \n",
        "    text = re.sub(\"n\\'t\", \" not\", text)\n",
        "    text = re.sub(\"\\'re\", \" are\", text)\n",
        "    text = re.sub(\"\\'s\", \" is\", text)\n",
        "    text = re.sub(\"\\'d\", \" would\", text)\n",
        "    text = re.sub(\"\\'ll\", \" will\", text)\n",
        "    text = re.sub(\"\\'ve\", \" have\", text)\n",
        "    text = re.sub(\"\\'m\", \" am\", text)\n",
        "    text = re.sub(r\"\\b[a-zA-Z]\\b\", '', text) # remove single characters\n",
        "    text = re.sub(r'\\w*\\d\\w*', '', text) # remove words with numbers\n",
        "    text = re.sub(r'\\s+', ' ', text) # remove extra spaces\n",
        "    text = re.sub(r'^\\s+|\\s+?$', '', text) # strip spaces\n",
        "    text = re.sub(\"-(?!\\w)\",\"\",text) #remove hyphen except for words which need it eg-Co-operate\n",
        "    text = re.sub(\"(http[s]?\\://\\S+)|([\\[\\(].*[\\)\\]])|([#@]\\S+)|\\n\", \"\",text) #Removing text in brackets\n",
        "    \n",
        "    # remove special characters and HTML\n",
        "    text = re.sub(r'<.*?>', '', text)\n",
        "    text = re.sub(r'[^a-zA-Z0-9\\s]', '', text)\n",
        "    \n",
        "    # Remove special characters, HTML tags, and punctuation marks\n",
        "    cleaned_text = re.sub(r'[^a-zA-Z0-9\\s]', '', text, re.I|re.A)\n",
        "    \n",
        "    # Convert text to lowercase\n",
        "    cleaned_text = cleaned_text.lower()\n",
        "    # Remove numbers\n",
        "    cleaned_text = re.sub(r'\\d+', '', cleaned_text)\n",
        "    \n",
        "    # remove stopwords\n",
        "    stop_words = set(stopwords.words(\"english\"))\n",
        "    tokens = [i for i in cleaned_text if i not in stop_words]\n",
        "    \n",
        "    \n",
        "    # Lemmatize the text\n",
        "    lemmatizer = WordNetLemmatizer()\n",
        "    cleaned_text = \" \".join([lemmatizer.lemmatize(word) for word in cleaned_text.split()])\n",
        "    \n",
        "    return cleaned_text"
      ],
      "metadata": {
        "id": "8odamfsK7jb0"
      },
      "execution_count": null,
      "outputs": []
    },
    {
      "cell_type": "code",
      "source": [
        "pipeline_lr_tfidf = Pipeline([\n",
        "    ('vect', TfidfVectorizer(analyzer='word', ngram_range=(1, 2))),\n",
        "    ('pipeline_lr_tfidf', LogisticRegression(max_iter=500,random_state=40,solver='newton-cg',multi_class=\"ovr\")),])\n",
        "\n",
        "\n",
        "evaluation(pipeline_lr_tfidf)"
      ],
      "metadata": {
        "colab": {
          "base_uri": "https://localhost:8080/"
        },
        "id": "gBXaHqpfosTn",
        "outputId": "d92f8c70-61ec-4170-c562-0c58cac418e0"
      },
      "execution_count": null,
      "outputs": [
        {
          "output_type": "stream",
          "name": "stdout",
          "text": [
            "Accuracy on train 0.934077\n",
            "Accuracy on test 0.891452\n",
            "F1 Score 0.8910613660946335\n",
            "Precision Score 0.8906706941056448\n",
            "Recall Score 0.891452380952381\n"
          ]
        }
      ]
    },
    {
      "cell_type": "code",
      "source": [
        "### Validaation of model "
      ],
      "metadata": {
        "id": "c-KrVUJ0Rgdb"
      },
      "execution_count": null,
      "outputs": []
    },
    {
      "cell_type": "code",
      "source": [
        "x=preprocess_text(\"it's a common thing to do a good practice in the society but i did not like this product very much due to its design,apprearnce is good but not of that high quality \")\n",
        "prediction = pipeline_lr_tfidf.predict([x])\n",
        "print(prediction)"
      ],
      "metadata": {
        "colab": {
          "base_uri": "https://localhost:8080/"
        },
        "id": "KqLtWgqb-gaL",
        "outputId": "c32e5131-70e0-431d-b548-0b5c4ec0a08a"
      },
      "execution_count": null,
      "outputs": [
        {
          "output_type": "stream",
          "name": "stdout",
          "text": [
            "['NEG']\n"
          ]
        }
      ]
    },
    {
      "cell_type": "code",
      "source": [
        "x=preprocess_text(\"it's a really good product \")\n",
        "prediction = pipeline_lr_tfidf.predict([x])\n",
        "print(prediction)"
      ],
      "metadata": {
        "colab": {
          "base_uri": "https://localhost:8080/"
        },
        "id": "MfM2L6o5KJTw",
        "outputId": "b2d5bbbf-171f-42dd-8acf-a420abf479b1"
      },
      "execution_count": null,
      "outputs": [
        {
          "output_type": "stream",
          "name": "stdout",
          "text": [
            "['POS']\n"
          ]
        }
      ]
    },
    {
      "cell_type": "code",
      "source": [
        "x=preprocess_text(\"its not good product  \")\n",
        "prediction = pipeline_lr_tfidf.predict([x])\n",
        "print(prediction)"
      ],
      "metadata": {
        "id": "pjQMXTnJwGnh",
        "colab": {
          "base_uri": "https://localhost:8080/"
        },
        "outputId": "ebed74bc-c27a-4f8e-ad5c-093b10796bc6"
      },
      "execution_count": null,
      "outputs": [
        {
          "output_type": "stream",
          "name": "stdout",
          "text": [
            "['NEG']\n"
          ]
        }
      ]
    },
    {
      "cell_type": "code",
      "source": [
        "x=preprocess_text(\"poularly good778 product and still reviews are not as per required  \")\n",
        "prediction = pipeline_lr_tfidf.predict([x])\n",
        "print(prediction)"
      ],
      "metadata": {
        "colab": {
          "base_uri": "https://localhost:8080/"
        },
        "id": "UuE0Y6mV6uxd",
        "outputId": "41434e7f-0294-4c41-f958-3b1626cca6b1"
      },
      "execution_count": null,
      "outputs": [
        {
          "output_type": "stream",
          "name": "stdout",
          "text": [
            "['NEUTRAL']\n"
          ]
        }
      ]
    },
    {
      "cell_type": "code",
      "source": [
        "#########################################################################"
      ],
      "metadata": {
        "id": "FaqzZr36GA0O"
      },
      "execution_count": null,
      "outputs": []
    },
    {
      "cell_type": "code",
      "source": [
        "import pandas as pd\n",
        "df=pd.read_csv(\"/content/drive/MyDrive/df_processed_new.csv\")\n",
        "df.head()"
      ],
      "metadata": {
        "colab": {
          "base_uri": "https://localhost:8080/",
          "height": 751
        },
        "id": "dmoWCOozZapY",
        "outputId": "11757f40-aa4d-44d6-fb5f-0c9c09c059fa"
      },
      "execution_count": null,
      "outputs": [
        {
          "output_type": "stream",
          "name": "stderr",
          "text": [
            "/usr/local/lib/python3.8/dist-packages/IPython/core/interactiveshell.py:3326: DtypeWarning: Columns (9) have mixed types.Specify dtype option on import or set low_memory=False.\n",
            "  exec(code_obj, self.user_global_ns, self.user_ns)\n"
          ]
        },
        {
          "output_type": "execute_result",
          "data": {
            "text/plain": [
              "   Unnamed: 0  Unnamed: 0.1      reviewerID        asin  \\\n",
              "0           0             0  A2EFCYXHNK06IS  5555991584   \n",
              "1           1             1  A1WR23ER5HMAA9  5555991584   \n",
              "2           2             2  A2IR4Q0GPAFJKW  5555991584   \n",
              "3           3             3  A2V0KUVAB9HSYO  5555991584   \n",
              "4           4             4  A1J0GL9HCA7ELW  5555991584   \n",
              "\n",
              "                                       reviewerName  \\\n",
              "0  Abigail Perkins \"Abby &#34;Reads Too Much&#34...   \n",
              "1                                               AKB   \n",
              "2                                         Alexander   \n",
              "3                                      Alison Hight   \n",
              "4                           Al the Pal \"Al the Pal\"   \n",
              "\n",
              "                                          reviewText  overall  \\\n",
              "0  anthemic title track begins quotthe memory tre...      5.0   \n",
              "1  thought enya couldnt possibly get better found...      5.0   \n",
              "2  nice cd easy listening husband like quite bit ...      4.0   \n",
              "3  really liked cd especially different languages...      4.0   \n",
              "4  enyas richly chorded style smitten little bit ...      5.0   \n",
              "\n",
              "                                            summary  price brand  ...  \\\n",
              "0                     Enya Experiments And Succeeds   9.49   NaN  ...   \n",
              "1                   How to improve upon perfection.   9.49   NaN  ...   \n",
              "2                                   Good listening.   9.49   NaN  ...   \n",
              "3                                          Loved It   9.49   NaN  ...   \n",
              "4  Another Hauntingly Beautiful Collection of Songs   9.49   NaN  ...   \n",
              "\n",
              "   sentiment1  helpful_rate  polarity review_len  word_count  \\\n",
              "0    Positive           0.8  0.137327       1806         256   \n",
              "1    Positive           1.0  0.560000        306          42   \n",
              "2    Positive           0.0  0.577778         73          12   \n",
              "3    Positive           0.0  0.378571        169          25   \n",
              "4    Positive           1.0  0.322348        460          67   \n",
              "\n",
              "                                      polarity_vader  compound    pos    neg  \\\n",
              "0  {'neg': 0.079, 'neu': 0.621, 'pos': 0.301, 'co...    0.9980  0.301  0.079   \n",
              "1  {'neg': 0.104, 'neu': 0.472, 'pos': 0.425, 'co...    0.9722  0.425  0.104   \n",
              "2  {'neg': 0.0, 'neu': 0.413, 'pos': 0.587, 'comp...    0.8850  0.587  0.000   \n",
              "3  {'neg': 0.0, 'neu': 0.782, 'pos': 0.218, 'comp...    0.7501  0.218  0.000   \n",
              "4  {'neg': 0.027, 'neu': 0.683, 'pos': 0.29, 'com...    0.9693  0.290  0.027   \n",
              "\n",
              "   type  \n",
              "0   POS  \n",
              "1   POS  \n",
              "2   POS  \n",
              "3   POS  \n",
              "4   POS  \n",
              "\n",
              "[5 rows x 25 columns]"
            ],
            "text/html": [
              "\n",
              "  <div id=\"df-82b8dda3-1b47-4adc-a180-d956c9c78bab\">\n",
              "    <div class=\"colab-df-container\">\n",
              "      <div>\n",
              "<style scoped>\n",
              "    .dataframe tbody tr th:only-of-type {\n",
              "        vertical-align: middle;\n",
              "    }\n",
              "\n",
              "    .dataframe tbody tr th {\n",
              "        vertical-align: top;\n",
              "    }\n",
              "\n",
              "    .dataframe thead th {\n",
              "        text-align: right;\n",
              "    }\n",
              "</style>\n",
              "<table border=\"1\" class=\"dataframe\">\n",
              "  <thead>\n",
              "    <tr style=\"text-align: right;\">\n",
              "      <th></th>\n",
              "      <th>Unnamed: 0</th>\n",
              "      <th>Unnamed: 0.1</th>\n",
              "      <th>reviewerID</th>\n",
              "      <th>asin</th>\n",
              "      <th>reviewerName</th>\n",
              "      <th>reviewText</th>\n",
              "      <th>overall</th>\n",
              "      <th>summary</th>\n",
              "      <th>price</th>\n",
              "      <th>brand</th>\n",
              "      <th>...</th>\n",
              "      <th>sentiment1</th>\n",
              "      <th>helpful_rate</th>\n",
              "      <th>polarity</th>\n",
              "      <th>review_len</th>\n",
              "      <th>word_count</th>\n",
              "      <th>polarity_vader</th>\n",
              "      <th>compound</th>\n",
              "      <th>pos</th>\n",
              "      <th>neg</th>\n",
              "      <th>type</th>\n",
              "    </tr>\n",
              "  </thead>\n",
              "  <tbody>\n",
              "    <tr>\n",
              "      <th>0</th>\n",
              "      <td>0</td>\n",
              "      <td>0</td>\n",
              "      <td>A2EFCYXHNK06IS</td>\n",
              "      <td>5555991584</td>\n",
              "      <td>Abigail Perkins \"Abby &amp;#34;Reads Too Much&amp;#34...</td>\n",
              "      <td>anthemic title track begins quotthe memory tre...</td>\n",
              "      <td>5.0</td>\n",
              "      <td>Enya Experiments And Succeeds</td>\n",
              "      <td>9.49</td>\n",
              "      <td>NaN</td>\n",
              "      <td>...</td>\n",
              "      <td>Positive</td>\n",
              "      <td>0.8</td>\n",
              "      <td>0.137327</td>\n",
              "      <td>1806</td>\n",
              "      <td>256</td>\n",
              "      <td>{'neg': 0.079, 'neu': 0.621, 'pos': 0.301, 'co...</td>\n",
              "      <td>0.9980</td>\n",
              "      <td>0.301</td>\n",
              "      <td>0.079</td>\n",
              "      <td>POS</td>\n",
              "    </tr>\n",
              "    <tr>\n",
              "      <th>1</th>\n",
              "      <td>1</td>\n",
              "      <td>1</td>\n",
              "      <td>A1WR23ER5HMAA9</td>\n",
              "      <td>5555991584</td>\n",
              "      <td>AKB</td>\n",
              "      <td>thought enya couldnt possibly get better found...</td>\n",
              "      <td>5.0</td>\n",
              "      <td>How to improve upon perfection.</td>\n",
              "      <td>9.49</td>\n",
              "      <td>NaN</td>\n",
              "      <td>...</td>\n",
              "      <td>Positive</td>\n",
              "      <td>1.0</td>\n",
              "      <td>0.560000</td>\n",
              "      <td>306</td>\n",
              "      <td>42</td>\n",
              "      <td>{'neg': 0.104, 'neu': 0.472, 'pos': 0.425, 'co...</td>\n",
              "      <td>0.9722</td>\n",
              "      <td>0.425</td>\n",
              "      <td>0.104</td>\n",
              "      <td>POS</td>\n",
              "    </tr>\n",
              "    <tr>\n",
              "      <th>2</th>\n",
              "      <td>2</td>\n",
              "      <td>2</td>\n",
              "      <td>A2IR4Q0GPAFJKW</td>\n",
              "      <td>5555991584</td>\n",
              "      <td>Alexander</td>\n",
              "      <td>nice cd easy listening husband like quite bit ...</td>\n",
              "      <td>4.0</td>\n",
              "      <td>Good listening.</td>\n",
              "      <td>9.49</td>\n",
              "      <td>NaN</td>\n",
              "      <td>...</td>\n",
              "      <td>Positive</td>\n",
              "      <td>0.0</td>\n",
              "      <td>0.577778</td>\n",
              "      <td>73</td>\n",
              "      <td>12</td>\n",
              "      <td>{'neg': 0.0, 'neu': 0.413, 'pos': 0.587, 'comp...</td>\n",
              "      <td>0.8850</td>\n",
              "      <td>0.587</td>\n",
              "      <td>0.000</td>\n",
              "      <td>POS</td>\n",
              "    </tr>\n",
              "    <tr>\n",
              "      <th>3</th>\n",
              "      <td>3</td>\n",
              "      <td>3</td>\n",
              "      <td>A2V0KUVAB9HSYO</td>\n",
              "      <td>5555991584</td>\n",
              "      <td>Alison Hight</td>\n",
              "      <td>really liked cd especially different languages...</td>\n",
              "      <td>4.0</td>\n",
              "      <td>Loved It</td>\n",
              "      <td>9.49</td>\n",
              "      <td>NaN</td>\n",
              "      <td>...</td>\n",
              "      <td>Positive</td>\n",
              "      <td>0.0</td>\n",
              "      <td>0.378571</td>\n",
              "      <td>169</td>\n",
              "      <td>25</td>\n",
              "      <td>{'neg': 0.0, 'neu': 0.782, 'pos': 0.218, 'comp...</td>\n",
              "      <td>0.7501</td>\n",
              "      <td>0.218</td>\n",
              "      <td>0.000</td>\n",
              "      <td>POS</td>\n",
              "    </tr>\n",
              "    <tr>\n",
              "      <th>4</th>\n",
              "      <td>4</td>\n",
              "      <td>4</td>\n",
              "      <td>A1J0GL9HCA7ELW</td>\n",
              "      <td>5555991584</td>\n",
              "      <td>Al the Pal \"Al the Pal\"</td>\n",
              "      <td>enyas richly chorded style smitten little bit ...</td>\n",
              "      <td>5.0</td>\n",
              "      <td>Another Hauntingly Beautiful Collection of Songs</td>\n",
              "      <td>9.49</td>\n",
              "      <td>NaN</td>\n",
              "      <td>...</td>\n",
              "      <td>Positive</td>\n",
              "      <td>1.0</td>\n",
              "      <td>0.322348</td>\n",
              "      <td>460</td>\n",
              "      <td>67</td>\n",
              "      <td>{'neg': 0.027, 'neu': 0.683, 'pos': 0.29, 'com...</td>\n",
              "      <td>0.9693</td>\n",
              "      <td>0.290</td>\n",
              "      <td>0.027</td>\n",
              "      <td>POS</td>\n",
              "    </tr>\n",
              "  </tbody>\n",
              "</table>\n",
              "<p>5 rows × 25 columns</p>\n",
              "</div>\n",
              "      <button class=\"colab-df-convert\" onclick=\"convertToInteractive('df-82b8dda3-1b47-4adc-a180-d956c9c78bab')\"\n",
              "              title=\"Convert this dataframe to an interactive table.\"\n",
              "              style=\"display:none;\">\n",
              "        \n",
              "  <svg xmlns=\"http://www.w3.org/2000/svg\" height=\"24px\"viewBox=\"0 0 24 24\"\n",
              "       width=\"24px\">\n",
              "    <path d=\"M0 0h24v24H0V0z\" fill=\"none\"/>\n",
              "    <path d=\"M18.56 5.44l.94 2.06.94-2.06 2.06-.94-2.06-.94-.94-2.06-.94 2.06-2.06.94zm-11 1L8.5 8.5l.94-2.06 2.06-.94-2.06-.94L8.5 2.5l-.94 2.06-2.06.94zm10 10l.94 2.06.94-2.06 2.06-.94-2.06-.94-.94-2.06-.94 2.06-2.06.94z\"/><path d=\"M17.41 7.96l-1.37-1.37c-.4-.4-.92-.59-1.43-.59-.52 0-1.04.2-1.43.59L10.3 9.45l-7.72 7.72c-.78.78-.78 2.05 0 2.83L4 21.41c.39.39.9.59 1.41.59.51 0 1.02-.2 1.41-.59l7.78-7.78 2.81-2.81c.8-.78.8-2.07 0-2.86zM5.41 20L4 18.59l7.72-7.72 1.47 1.35L5.41 20z\"/>\n",
              "  </svg>\n",
              "      </button>\n",
              "      \n",
              "  <style>\n",
              "    .colab-df-container {\n",
              "      display:flex;\n",
              "      flex-wrap:wrap;\n",
              "      gap: 12px;\n",
              "    }\n",
              "\n",
              "    .colab-df-convert {\n",
              "      background-color: #E8F0FE;\n",
              "      border: none;\n",
              "      border-radius: 50%;\n",
              "      cursor: pointer;\n",
              "      display: none;\n",
              "      fill: #1967D2;\n",
              "      height: 32px;\n",
              "      padding: 0 0 0 0;\n",
              "      width: 32px;\n",
              "    }\n",
              "\n",
              "    .colab-df-convert:hover {\n",
              "      background-color: #E2EBFA;\n",
              "      box-shadow: 0px 1px 2px rgba(60, 64, 67, 0.3), 0px 1px 3px 1px rgba(60, 64, 67, 0.15);\n",
              "      fill: #174EA6;\n",
              "    }\n",
              "\n",
              "    [theme=dark] .colab-df-convert {\n",
              "      background-color: #3B4455;\n",
              "      fill: #D2E3FC;\n",
              "    }\n",
              "\n",
              "    [theme=dark] .colab-df-convert:hover {\n",
              "      background-color: #434B5C;\n",
              "      box-shadow: 0px 1px 3px 1px rgba(0, 0, 0, 0.15);\n",
              "      filter: drop-shadow(0px 1px 2px rgba(0, 0, 0, 0.3));\n",
              "      fill: #FFFFFF;\n",
              "    }\n",
              "  </style>\n",
              "\n",
              "      <script>\n",
              "        const buttonEl =\n",
              "          document.querySelector('#df-82b8dda3-1b47-4adc-a180-d956c9c78bab button.colab-df-convert');\n",
              "        buttonEl.style.display =\n",
              "          google.colab.kernel.accessAllowed ? 'block' : 'none';\n",
              "\n",
              "        async function convertToInteractive(key) {\n",
              "          const element = document.querySelector('#df-82b8dda3-1b47-4adc-a180-d956c9c78bab');\n",
              "          const dataTable =\n",
              "            await google.colab.kernel.invokeFunction('convertToInteractive',\n",
              "                                                     [key], {});\n",
              "          if (!dataTable) return;\n",
              "\n",
              "          const docLinkHtml = 'Like what you see? Visit the ' +\n",
              "            '<a target=\"_blank\" href=https://colab.research.google.com/notebooks/data_table.ipynb>data table notebook</a>'\n",
              "            + ' to learn more about interactive tables.';\n",
              "          element.innerHTML = '';\n",
              "          dataTable['output_type'] = 'display_data';\n",
              "          await google.colab.output.renderOutput(dataTable, element);\n",
              "          const docLink = document.createElement('div');\n",
              "          docLink.innerHTML = docLinkHtml;\n",
              "          element.appendChild(docLink);\n",
              "        }\n",
              "      </script>\n",
              "    </div>\n",
              "  </div>\n",
              "  "
            ]
          },
          "metadata": {},
          "execution_count": 3
        }
      ]
    },
    {
      "cell_type": "code",
      "source": [
        "## Reccomendation system :"
      ],
      "metadata": {
        "id": "_jxiNORCloP1"
      },
      "execution_count": null,
      "outputs": []
    },
    {
      "cell_type": "code",
      "source": [
        "# Import necessary libraries\n",
        "import pandas as pd\n",
        "from sklearn.decomposition import TruncatedSVD\n",
        "from sklearn.metrics.pairwise import cosine_similarity\n",
        "import numpy as np\n",
        "\n",
        "# Load the data and create a pivot table\n",
        "new_df1 = df.head(50000)\n",
        "\n",
        "# Group data by date\n",
        "new_df1 = new_df1.groupby(['reviewerID', 'date']).agg({'asin': 'first', 'overall': 'mean'})\n",
        "\n",
        "# Create a pivot table\n",
        "ratings_matrix = new_df1.pivot_table(values='overall', index='reviewerID', columns='asin', fill_value=0)\n",
        "\n",
        "# Perform SVD on the pivot table\n",
        "X = ratings_matrix.T\n",
        "svd = TruncatedSVD(n_components=10)\n",
        "decomposed_matrix = svd.fit_transform(X)\n",
        "\n",
        "# Calculate cosine similarity\n",
        "cosine_sim = cosine_similarity(decomposed_matrix)\n",
        "\n",
        "# Get the product ID of the item\n",
        "product_names = list(X.index)\n",
        "product_id = product_names.index(\"B0000004UU\")\n",
        "\n",
        "# Get the products with a cosine similarity greater than a threshold\n",
        "threshold = 0.95\n",
        "recommend = list(X.index[cosine_sim[product_id] > threshold])\n",
        "\n",
        "# Remove the item already bought by the customer \n",
        "recommend.remove(\"B0000004UU\")\n",
        "\n",
        "# Print the recommended items\n",
        "print(recommend)\n"
      ],
      "metadata": {
        "colab": {
          "base_uri": "https://localhost:8080/"
        },
        "id": "wXMfoT1ZjEsk",
        "outputId": "173d4dc9-2431-4d37-a827-07f608a26e55"
      },
      "execution_count": null,
      "outputs": [
        {
          "output_type": "stream",
          "name": "stdout",
          "text": [
            "['B00000050N', 'B00000051K', 'B00000052I', 'B00000053G', 'B000000W2Z', 'B000000W7W', 'B000001G0E', 'B0000024I7', 'B0000024JL', 'B0000024L0', 'B000002H84']\n"
          ]
        }
      ]
    }
  ],
  "metadata": {
    "colab": {
      "provenance": []
    },
    "kernelspec": {
      "display_name": "Python 3",
      "name": "python3"
    },
    "language_info": {
      "name": "python"
    }
  },
  "nbformat": 4,
  "nbformat_minor": 0
}